{
  "nbformat": 4,
  "nbformat_minor": 0,
  "metadata": {
    "colab": {
      "provenance": [],
      "gpuType": "T4",
      "mount_file_id": "1SPTXgKTZlIrE1psQ0mYg7R5RqX3kjhVD",
      "authorship_tag": "ABX9TyMBuVIYLie8+InZOYQYBgdj",
      "include_colab_link": true
    },
    "kernelspec": {
      "name": "python3",
      "display_name": "Python 3"
    },
    "language_info": {
      "name": "python"
    },
    "accelerator": "GPU"
  },
  "cells": [
    {
      "cell_type": "markdown",
      "metadata": {
        "id": "view-in-github",
        "colab_type": "text"
      },
      "source": [
        "<a href=\"https://colab.research.google.com/github/JAYANTHNITW/Deep-learning-Activation-functions/blob/main/Hyperparameter_Tuning_of_ANN.ipynb\" target=\"_parent\"><img src=\"https://colab.research.google.com/assets/colab-badge.svg\" alt=\"Open In Colab\"/></a>"
      ]
    },
    {
      "cell_type": "code",
      "execution_count": 2,
      "metadata": {
        "id": "ikfOeo4wodnm"
      },
      "outputs": [],
      "source": [
        "import numpy as np\n",
        "import pandas as pd"
      ]
    },
    {
      "cell_type": "code",
      "source": [
        "df = pd.read_csv('drive/MyDrive/Colab Notebooks/diabetes.csv')"
      ],
      "metadata": {
        "id": "kqoGccEKojjG"
      },
      "execution_count": 3,
      "outputs": []
    },
    {
      "cell_type": "code",
      "source": [
        "df.head()"
      ],
      "metadata": {
        "colab": {
          "base_uri": "https://localhost:8080/",
          "height": 206
        },
        "id": "pebVgiVgpaNW",
        "outputId": "c823c41a-b6df-4b65-a14f-7eb0647091cd"
      },
      "execution_count": 4,
      "outputs": [
        {
          "output_type": "execute_result",
          "data": {
            "text/plain": [
              "   Pregnancies  Glucose  BloodPressure  SkinThickness  Insulin   BMI  \\\n",
              "0            6      148             72             35        0  33.6   \n",
              "1            1       85             66             29        0  26.6   \n",
              "2            8      183             64              0        0  23.3   \n",
              "3            1       89             66             23       94  28.1   \n",
              "4            0      137             40             35      168  43.1   \n",
              "\n",
              "   DiabetesPedigreeFunction  Age  Outcome  \n",
              "0                     0.627   50        1  \n",
              "1                     0.351   31        0  \n",
              "2                     0.672   32        1  \n",
              "3                     0.167   21        0  \n",
              "4                     2.288   33        1  "
            ],
            "text/html": [
              "\n",
              "  <div id=\"df-e2c6bae6-6d15-4da1-86c2-54898109e7ee\">\n",
              "    <div class=\"colab-df-container\">\n",
              "      <div>\n",
              "<style scoped>\n",
              "    .dataframe tbody tr th:only-of-type {\n",
              "        vertical-align: middle;\n",
              "    }\n",
              "\n",
              "    .dataframe tbody tr th {\n",
              "        vertical-align: top;\n",
              "    }\n",
              "\n",
              "    .dataframe thead th {\n",
              "        text-align: right;\n",
              "    }\n",
              "</style>\n",
              "<table border=\"1\" class=\"dataframe\">\n",
              "  <thead>\n",
              "    <tr style=\"text-align: right;\">\n",
              "      <th></th>\n",
              "      <th>Pregnancies</th>\n",
              "      <th>Glucose</th>\n",
              "      <th>BloodPressure</th>\n",
              "      <th>SkinThickness</th>\n",
              "      <th>Insulin</th>\n",
              "      <th>BMI</th>\n",
              "      <th>DiabetesPedigreeFunction</th>\n",
              "      <th>Age</th>\n",
              "      <th>Outcome</th>\n",
              "    </tr>\n",
              "  </thead>\n",
              "  <tbody>\n",
              "    <tr>\n",
              "      <th>0</th>\n",
              "      <td>6</td>\n",
              "      <td>148</td>\n",
              "      <td>72</td>\n",
              "      <td>35</td>\n",
              "      <td>0</td>\n",
              "      <td>33.6</td>\n",
              "      <td>0.627</td>\n",
              "      <td>50</td>\n",
              "      <td>1</td>\n",
              "    </tr>\n",
              "    <tr>\n",
              "      <th>1</th>\n",
              "      <td>1</td>\n",
              "      <td>85</td>\n",
              "      <td>66</td>\n",
              "      <td>29</td>\n",
              "      <td>0</td>\n",
              "      <td>26.6</td>\n",
              "      <td>0.351</td>\n",
              "      <td>31</td>\n",
              "      <td>0</td>\n",
              "    </tr>\n",
              "    <tr>\n",
              "      <th>2</th>\n",
              "      <td>8</td>\n",
              "      <td>183</td>\n",
              "      <td>64</td>\n",
              "      <td>0</td>\n",
              "      <td>0</td>\n",
              "      <td>23.3</td>\n",
              "      <td>0.672</td>\n",
              "      <td>32</td>\n",
              "      <td>1</td>\n",
              "    </tr>\n",
              "    <tr>\n",
              "      <th>3</th>\n",
              "      <td>1</td>\n",
              "      <td>89</td>\n",
              "      <td>66</td>\n",
              "      <td>23</td>\n",
              "      <td>94</td>\n",
              "      <td>28.1</td>\n",
              "      <td>0.167</td>\n",
              "      <td>21</td>\n",
              "      <td>0</td>\n",
              "    </tr>\n",
              "    <tr>\n",
              "      <th>4</th>\n",
              "      <td>0</td>\n",
              "      <td>137</td>\n",
              "      <td>40</td>\n",
              "      <td>35</td>\n",
              "      <td>168</td>\n",
              "      <td>43.1</td>\n",
              "      <td>2.288</td>\n",
              "      <td>33</td>\n",
              "      <td>1</td>\n",
              "    </tr>\n",
              "  </tbody>\n",
              "</table>\n",
              "</div>\n",
              "      <button class=\"colab-df-convert\" onclick=\"convertToInteractive('df-e2c6bae6-6d15-4da1-86c2-54898109e7ee')\"\n",
              "              title=\"Convert this dataframe to an interactive table.\"\n",
              "              style=\"display:none;\">\n",
              "        \n",
              "  <svg xmlns=\"http://www.w3.org/2000/svg\" height=\"24px\"viewBox=\"0 0 24 24\"\n",
              "       width=\"24px\">\n",
              "    <path d=\"M0 0h24v24H0V0z\" fill=\"none\"/>\n",
              "    <path d=\"M18.56 5.44l.94 2.06.94-2.06 2.06-.94-2.06-.94-.94-2.06-.94 2.06-2.06.94zm-11 1L8.5 8.5l.94-2.06 2.06-.94-2.06-.94L8.5 2.5l-.94 2.06-2.06.94zm10 10l.94 2.06.94-2.06 2.06-.94-2.06-.94-.94-2.06-.94 2.06-2.06.94z\"/><path d=\"M17.41 7.96l-1.37-1.37c-.4-.4-.92-.59-1.43-.59-.52 0-1.04.2-1.43.59L10.3 9.45l-7.72 7.72c-.78.78-.78 2.05 0 2.83L4 21.41c.39.39.9.59 1.41.59.51 0 1.02-.2 1.41-.59l7.78-7.78 2.81-2.81c.8-.78.8-2.07 0-2.86zM5.41 20L4 18.59l7.72-7.72 1.47 1.35L5.41 20z\"/>\n",
              "  </svg>\n",
              "      </button>\n",
              "      \n",
              "  <style>\n",
              "    .colab-df-container {\n",
              "      display:flex;\n",
              "      flex-wrap:wrap;\n",
              "      gap: 12px;\n",
              "    }\n",
              "\n",
              "    .colab-df-convert {\n",
              "      background-color: #E8F0FE;\n",
              "      border: none;\n",
              "      border-radius: 50%;\n",
              "      cursor: pointer;\n",
              "      display: none;\n",
              "      fill: #1967D2;\n",
              "      height: 32px;\n",
              "      padding: 0 0 0 0;\n",
              "      width: 32px;\n",
              "    }\n",
              "\n",
              "    .colab-df-convert:hover {\n",
              "      background-color: #E2EBFA;\n",
              "      box-shadow: 0px 1px 2px rgba(60, 64, 67, 0.3), 0px 1px 3px 1px rgba(60, 64, 67, 0.15);\n",
              "      fill: #174EA6;\n",
              "    }\n",
              "\n",
              "    [theme=dark] .colab-df-convert {\n",
              "      background-color: #3B4455;\n",
              "      fill: #D2E3FC;\n",
              "    }\n",
              "\n",
              "    [theme=dark] .colab-df-convert:hover {\n",
              "      background-color: #434B5C;\n",
              "      box-shadow: 0px 1px 3px 1px rgba(0, 0, 0, 0.15);\n",
              "      filter: drop-shadow(0px 1px 2px rgba(0, 0, 0, 0.3));\n",
              "      fill: #FFFFFF;\n",
              "    }\n",
              "  </style>\n",
              "\n",
              "      <script>\n",
              "        const buttonEl =\n",
              "          document.querySelector('#df-e2c6bae6-6d15-4da1-86c2-54898109e7ee button.colab-df-convert');\n",
              "        buttonEl.style.display =\n",
              "          google.colab.kernel.accessAllowed ? 'block' : 'none';\n",
              "\n",
              "        async function convertToInteractive(key) {\n",
              "          const element = document.querySelector('#df-e2c6bae6-6d15-4da1-86c2-54898109e7ee');\n",
              "          const dataTable =\n",
              "            await google.colab.kernel.invokeFunction('convertToInteractive',\n",
              "                                                     [key], {});\n",
              "          if (!dataTable) return;\n",
              "\n",
              "          const docLinkHtml = 'Like what you see? Visit the ' +\n",
              "            '<a target=\"_blank\" href=https://colab.research.google.com/notebooks/data_table.ipynb>data table notebook</a>'\n",
              "            + ' to learn more about interactive tables.';\n",
              "          element.innerHTML = '';\n",
              "          dataTable['output_type'] = 'display_data';\n",
              "          await google.colab.output.renderOutput(dataTable, element);\n",
              "          const docLink = document.createElement('div');\n",
              "          docLink.innerHTML = docLinkHtml;\n",
              "          element.appendChild(docLink);\n",
              "        }\n",
              "      </script>\n",
              "    </div>\n",
              "  </div>\n",
              "  "
            ]
          },
          "metadata": {},
          "execution_count": 4
        }
      ]
    },
    {
      "cell_type": "code",
      "source": [
        "df.shape"
      ],
      "metadata": {
        "colab": {
          "base_uri": "https://localhost:8080/"
        },
        "id": "1wNlru56pbZ6",
        "outputId": "77e92a3a-c259-4a12-f78b-fd599ca493ef"
      },
      "execution_count": 5,
      "outputs": [
        {
          "output_type": "execute_result",
          "data": {
            "text/plain": [
              "(768, 9)"
            ]
          },
          "metadata": {},
          "execution_count": 5
        }
      ]
    },
    {
      "cell_type": "code",
      "source": [
        "df.info()"
      ],
      "metadata": {
        "colab": {
          "base_uri": "https://localhost:8080/"
        },
        "id": "r6Y7KZ0vpccL",
        "outputId": "c9c7cb12-94c3-4ef8-db18-f6a055a61872"
      },
      "execution_count": 6,
      "outputs": [
        {
          "output_type": "stream",
          "name": "stdout",
          "text": [
            "<class 'pandas.core.frame.DataFrame'>\n",
            "RangeIndex: 768 entries, 0 to 767\n",
            "Data columns (total 9 columns):\n",
            " #   Column                    Non-Null Count  Dtype  \n",
            "---  ------                    --------------  -----  \n",
            " 0   Pregnancies               768 non-null    int64  \n",
            " 1   Glucose                   768 non-null    int64  \n",
            " 2   BloodPressure             768 non-null    int64  \n",
            " 3   SkinThickness             768 non-null    int64  \n",
            " 4   Insulin                   768 non-null    int64  \n",
            " 5   BMI                       768 non-null    float64\n",
            " 6   DiabetesPedigreeFunction  768 non-null    float64\n",
            " 7   Age                       768 non-null    int64  \n",
            " 8   Outcome                   768 non-null    int64  \n",
            "dtypes: float64(2), int64(7)\n",
            "memory usage: 54.1 KB\n"
          ]
        }
      ]
    },
    {
      "cell_type": "code",
      "source": [
        "df.corr()['Outcome']"
      ],
      "metadata": {
        "colab": {
          "base_uri": "https://localhost:8080/"
        },
        "id": "NOM74WF9pfdy",
        "outputId": "c7b334a6-3582-4676-a130-bc15e9a71024"
      },
      "execution_count": 7,
      "outputs": [
        {
          "output_type": "execute_result",
          "data": {
            "text/plain": [
              "Pregnancies                 0.221898\n",
              "Glucose                     0.466581\n",
              "BloodPressure               0.065068\n",
              "SkinThickness               0.074752\n",
              "Insulin                     0.130548\n",
              "BMI                         0.292695\n",
              "DiabetesPedigreeFunction    0.173844\n",
              "Age                         0.238356\n",
              "Outcome                     1.000000\n",
              "Name: Outcome, dtype: float64"
            ]
          },
          "metadata": {},
          "execution_count": 7
        }
      ]
    },
    {
      "cell_type": "code",
      "source": [
        "x = df.iloc[:,:-1].values\n",
        "y = df.iloc[:,-1].values"
      ],
      "metadata": {
        "id": "b87pDA2Opjwo"
      },
      "execution_count": 8,
      "outputs": []
    },
    {
      "cell_type": "code",
      "source": [
        "x"
      ],
      "metadata": {
        "colab": {
          "base_uri": "https://localhost:8080/"
        },
        "id": "644SbmuYpyNJ",
        "outputId": "79af296e-54cb-4e51-c186-c9fdfaf85a32"
      },
      "execution_count": 9,
      "outputs": [
        {
          "output_type": "execute_result",
          "data": {
            "text/plain": [
              "array([[  6.   , 148.   ,  72.   , ...,  33.6  ,   0.627,  50.   ],\n",
              "       [  1.   ,  85.   ,  66.   , ...,  26.6  ,   0.351,  31.   ],\n",
              "       [  8.   , 183.   ,  64.   , ...,  23.3  ,   0.672,  32.   ],\n",
              "       ...,\n",
              "       [  5.   , 121.   ,  72.   , ...,  26.2  ,   0.245,  30.   ],\n",
              "       [  1.   , 126.   ,  60.   , ...,  30.1  ,   0.349,  47.   ],\n",
              "       [  1.   ,  93.   ,  70.   , ...,  30.4  ,   0.315,  23.   ]])"
            ]
          },
          "metadata": {},
          "execution_count": 9
        }
      ]
    },
    {
      "cell_type": "code",
      "source": [
        "from sklearn.preprocessing import StandardScaler\n",
        "from sklearn.model_selection import train_test_split"
      ],
      "metadata": {
        "id": "enZhawMnp6eZ"
      },
      "execution_count": 10,
      "outputs": []
    },
    {
      "cell_type": "code",
      "source": [
        "scaler = StandardScaler()\n",
        "x = scaler.fit_transform(x)"
      ],
      "metadata": {
        "id": "7veBzonZqPSx"
      },
      "execution_count": 11,
      "outputs": []
    },
    {
      "cell_type": "code",
      "source": [
        "x"
      ],
      "metadata": {
        "colab": {
          "base_uri": "https://localhost:8080/"
        },
        "id": "dj_nWSxBqWHa",
        "outputId": "eda4bee6-9fa2-4614-c9d9-3662eb7454da"
      },
      "execution_count": 12,
      "outputs": [
        {
          "output_type": "execute_result",
          "data": {
            "text/plain": [
              "array([[ 0.63994726,  0.84832379,  0.14964075, ...,  0.20401277,\n",
              "         0.46849198,  1.4259954 ],\n",
              "       [-0.84488505, -1.12339636, -0.16054575, ..., -0.68442195,\n",
              "        -0.36506078, -0.19067191],\n",
              "       [ 1.23388019,  1.94372388, -0.26394125, ..., -1.10325546,\n",
              "         0.60439732, -0.10558415],\n",
              "       ...,\n",
              "       [ 0.3429808 ,  0.00330087,  0.14964075, ..., -0.73518964,\n",
              "        -0.68519336, -0.27575966],\n",
              "       [-0.84488505,  0.1597866 , -0.47073225, ..., -0.24020459,\n",
              "        -0.37110101,  1.17073215],\n",
              "       [-0.84488505, -0.8730192 ,  0.04624525, ..., -0.20212881,\n",
              "        -0.47378505, -0.87137393]])"
            ]
          },
          "metadata": {},
          "execution_count": 12
        }
      ]
    },
    {
      "cell_type": "code",
      "source": [
        "x_train,x_test,y_train,y_test = train_test_split(x,y,test_size=0.2,random_state=42)"
      ],
      "metadata": {
        "id": "X7nt7A8FrZeM"
      },
      "execution_count": 13,
      "outputs": []
    },
    {
      "cell_type": "code",
      "source": [
        "import tensorflow\n",
        "from tensorflow import keras\n",
        "from keras import Sequential\n",
        "from keras.layers import Dense,Dropout"
      ],
      "metadata": {
        "id": "XmSSLf5OqWkB"
      },
      "execution_count": 14,
      "outputs": []
    },
    {
      "cell_type": "code",
      "source": [
        "model = Sequential()\n",
        "model.add(Dense(72,activation='relu',input_dim=8))\n",
        "model.add(Dense(72,activation='relu'))\n",
        "model.add(Dense(1,activation='sigmoid'))\n",
        "\n",
        "model.compile(loss='binary_crossentropy',metrics=['accuracy'],optimizer='rmsprop')"
      ],
      "metadata": {
        "id": "nwGE8ZQZr-Uz"
      },
      "execution_count": 15,
      "outputs": []
    },
    {
      "cell_type": "code",
      "source": [
        "model.fit(x_train,y_train,batch_size=32,epochs=100,validation_data=(x_test,y_test))"
      ],
      "metadata": {
        "colab": {
          "base_uri": "https://localhost:8080/"
        },
        "id": "dgSIYfrLtZHh",
        "outputId": "8a784d8a-ba0d-47b4-8e2c-bad1e3a4e3d4"
      },
      "execution_count": 16,
      "outputs": [
        {
          "output_type": "stream",
          "name": "stdout",
          "text": [
            "Epoch 1/100\n",
            "20/20 [==============================] - 9s 41ms/step - loss: 0.5818 - accuracy: 0.7313 - val_loss: 0.5387 - val_accuracy: 0.7468\n",
            "Epoch 2/100\n",
            "20/20 [==============================] - 0s 13ms/step - loss: 0.4973 - accuracy: 0.7606 - val_loss: 0.5100 - val_accuracy: 0.7597\n",
            "Epoch 3/100\n",
            "20/20 [==============================] - 0s 15ms/step - loss: 0.4694 - accuracy: 0.7769 - val_loss: 0.5039 - val_accuracy: 0.7597\n",
            "Epoch 4/100\n",
            "20/20 [==============================] - 0s 15ms/step - loss: 0.4581 - accuracy: 0.7736 - val_loss: 0.5080 - val_accuracy: 0.7532\n",
            "Epoch 5/100\n",
            "20/20 [==============================] - 0s 11ms/step - loss: 0.4476 - accuracy: 0.7834 - val_loss: 0.5132 - val_accuracy: 0.7273\n",
            "Epoch 6/100\n",
            "20/20 [==============================] - 0s 10ms/step - loss: 0.4414 - accuracy: 0.7850 - val_loss: 0.5132 - val_accuracy: 0.7532\n",
            "Epoch 7/100\n",
            "20/20 [==============================] - 0s 16ms/step - loss: 0.4361 - accuracy: 0.7899 - val_loss: 0.5154 - val_accuracy: 0.7468\n",
            "Epoch 8/100\n",
            "20/20 [==============================] - 0s 12ms/step - loss: 0.4319 - accuracy: 0.7997 - val_loss: 0.5169 - val_accuracy: 0.7792\n",
            "Epoch 9/100\n",
            "20/20 [==============================] - 0s 11ms/step - loss: 0.4262 - accuracy: 0.7964 - val_loss: 0.5223 - val_accuracy: 0.7532\n",
            "Epoch 10/100\n",
            "20/20 [==============================] - 0s 12ms/step - loss: 0.4243 - accuracy: 0.7964 - val_loss: 0.5270 - val_accuracy: 0.7532\n",
            "Epoch 11/100\n",
            "20/20 [==============================] - 0s 12ms/step - loss: 0.4225 - accuracy: 0.7883 - val_loss: 0.5276 - val_accuracy: 0.7532\n",
            "Epoch 12/100\n",
            "20/20 [==============================] - 0s 12ms/step - loss: 0.4175 - accuracy: 0.8111 - val_loss: 0.5359 - val_accuracy: 0.7662\n",
            "Epoch 13/100\n",
            "20/20 [==============================] - 0s 10ms/step - loss: 0.4115 - accuracy: 0.7948 - val_loss: 0.5344 - val_accuracy: 0.7403\n",
            "Epoch 14/100\n",
            "20/20 [==============================] - 0s 9ms/step - loss: 0.4102 - accuracy: 0.8046 - val_loss: 0.5396 - val_accuracy: 0.7597\n",
            "Epoch 15/100\n",
            "20/20 [==============================] - 0s 13ms/step - loss: 0.4109 - accuracy: 0.7932 - val_loss: 0.5314 - val_accuracy: 0.7597\n",
            "Epoch 16/100\n",
            "20/20 [==============================] - 0s 16ms/step - loss: 0.4050 - accuracy: 0.8046 - val_loss: 0.5448 - val_accuracy: 0.7273\n",
            "Epoch 17/100\n",
            "20/20 [==============================] - 0s 15ms/step - loss: 0.4043 - accuracy: 0.8062 - val_loss: 0.5420 - val_accuracy: 0.7597\n",
            "Epoch 18/100\n",
            "20/20 [==============================] - 0s 12ms/step - loss: 0.4022 - accuracy: 0.8062 - val_loss: 0.5405 - val_accuracy: 0.7597\n",
            "Epoch 19/100\n",
            "20/20 [==============================] - 0s 12ms/step - loss: 0.3976 - accuracy: 0.8127 - val_loss: 0.5503 - val_accuracy: 0.7273\n",
            "Epoch 20/100\n",
            "20/20 [==============================] - 0s 12ms/step - loss: 0.3969 - accuracy: 0.8192 - val_loss: 0.5471 - val_accuracy: 0.7597\n",
            "Epoch 21/100\n",
            "20/20 [==============================] - 0s 14ms/step - loss: 0.3940 - accuracy: 0.8208 - val_loss: 0.5551 - val_accuracy: 0.7597\n",
            "Epoch 22/100\n",
            "20/20 [==============================] - 0s 10ms/step - loss: 0.3925 - accuracy: 0.8111 - val_loss: 0.5569 - val_accuracy: 0.7208\n",
            "Epoch 23/100\n",
            "20/20 [==============================] - 0s 11ms/step - loss: 0.3896 - accuracy: 0.8225 - val_loss: 0.5520 - val_accuracy: 0.7338\n",
            "Epoch 24/100\n",
            "20/20 [==============================] - 0s 11ms/step - loss: 0.3872 - accuracy: 0.8127 - val_loss: 0.5575 - val_accuracy: 0.7403\n",
            "Epoch 25/100\n",
            "20/20 [==============================] - 0s 9ms/step - loss: 0.3839 - accuracy: 0.8257 - val_loss: 0.5609 - val_accuracy: 0.7468\n",
            "Epoch 26/100\n",
            "20/20 [==============================] - 0s 10ms/step - loss: 0.3836 - accuracy: 0.8160 - val_loss: 0.5634 - val_accuracy: 0.7338\n",
            "Epoch 27/100\n",
            "20/20 [==============================] - 0s 9ms/step - loss: 0.3810 - accuracy: 0.8192 - val_loss: 0.5650 - val_accuracy: 0.7597\n",
            "Epoch 28/100\n",
            "20/20 [==============================] - 0s 10ms/step - loss: 0.3804 - accuracy: 0.8225 - val_loss: 0.5709 - val_accuracy: 0.7273\n",
            "Epoch 29/100\n",
            "20/20 [==============================] - 0s 16ms/step - loss: 0.3772 - accuracy: 0.8290 - val_loss: 0.5735 - val_accuracy: 0.7273\n",
            "Epoch 30/100\n",
            "20/20 [==============================] - 0s 12ms/step - loss: 0.3753 - accuracy: 0.8322 - val_loss: 0.5622 - val_accuracy: 0.7273\n",
            "Epoch 31/100\n",
            "20/20 [==============================] - 0s 15ms/step - loss: 0.3684 - accuracy: 0.8290 - val_loss: 0.5776 - val_accuracy: 0.7468\n",
            "Epoch 32/100\n",
            "20/20 [==============================] - 0s 14ms/step - loss: 0.3706 - accuracy: 0.8306 - val_loss: 0.5736 - val_accuracy: 0.7403\n",
            "Epoch 33/100\n",
            "20/20 [==============================] - 0s 14ms/step - loss: 0.3668 - accuracy: 0.8371 - val_loss: 0.5762 - val_accuracy: 0.7338\n",
            "Epoch 34/100\n",
            "20/20 [==============================] - 0s 16ms/step - loss: 0.3657 - accuracy: 0.8306 - val_loss: 0.5776 - val_accuracy: 0.7532\n",
            "Epoch 35/100\n",
            "20/20 [==============================] - 0s 7ms/step - loss: 0.3621 - accuracy: 0.8388 - val_loss: 0.5821 - val_accuracy: 0.7273\n",
            "Epoch 36/100\n",
            "20/20 [==============================] - 0s 13ms/step - loss: 0.3632 - accuracy: 0.8388 - val_loss: 0.5826 - val_accuracy: 0.7403\n",
            "Epoch 37/100\n",
            "20/20 [==============================] - 0s 23ms/step - loss: 0.3583 - accuracy: 0.8274 - val_loss: 0.5937 - val_accuracy: 0.7143\n",
            "Epoch 38/100\n",
            "20/20 [==============================] - 0s 17ms/step - loss: 0.3550 - accuracy: 0.8371 - val_loss: 0.5881 - val_accuracy: 0.7338\n",
            "Epoch 39/100\n",
            "20/20 [==============================] - 0s 24ms/step - loss: 0.3542 - accuracy: 0.8371 - val_loss: 0.5791 - val_accuracy: 0.7273\n",
            "Epoch 40/100\n",
            "20/20 [==============================] - 0s 23ms/step - loss: 0.3520 - accuracy: 0.8388 - val_loss: 0.5916 - val_accuracy: 0.7143\n",
            "Epoch 41/100\n",
            "20/20 [==============================] - 0s 20ms/step - loss: 0.3523 - accuracy: 0.8518 - val_loss: 0.6080 - val_accuracy: 0.7143\n",
            "Epoch 42/100\n",
            "20/20 [==============================] - 0s 16ms/step - loss: 0.3483 - accuracy: 0.8420 - val_loss: 0.6051 - val_accuracy: 0.7078\n",
            "Epoch 43/100\n",
            "20/20 [==============================] - 0s 11ms/step - loss: 0.3473 - accuracy: 0.8485 - val_loss: 0.5931 - val_accuracy: 0.7403\n",
            "Epoch 44/100\n",
            "20/20 [==============================] - 0s 10ms/step - loss: 0.3463 - accuracy: 0.8469 - val_loss: 0.6084 - val_accuracy: 0.7143\n",
            "Epoch 45/100\n",
            "20/20 [==============================] - 0s 11ms/step - loss: 0.3439 - accuracy: 0.8502 - val_loss: 0.6092 - val_accuracy: 0.7273\n",
            "Epoch 46/100\n",
            "20/20 [==============================] - 0s 13ms/step - loss: 0.3410 - accuracy: 0.8469 - val_loss: 0.6057 - val_accuracy: 0.7403\n",
            "Epoch 47/100\n",
            "20/20 [==============================] - 0s 10ms/step - loss: 0.3390 - accuracy: 0.8518 - val_loss: 0.6198 - val_accuracy: 0.7078\n",
            "Epoch 48/100\n",
            "20/20 [==============================] - 0s 14ms/step - loss: 0.3370 - accuracy: 0.8518 - val_loss: 0.6149 - val_accuracy: 0.7208\n",
            "Epoch 49/100\n",
            "20/20 [==============================] - 0s 12ms/step - loss: 0.3346 - accuracy: 0.8502 - val_loss: 0.6169 - val_accuracy: 0.7273\n",
            "Epoch 50/100\n",
            "20/20 [==============================] - 0s 8ms/step - loss: 0.3320 - accuracy: 0.8485 - val_loss: 0.6117 - val_accuracy: 0.7273\n",
            "Epoch 51/100\n",
            "20/20 [==============================] - 0s 6ms/step - loss: 0.3291 - accuracy: 0.8632 - val_loss: 0.6325 - val_accuracy: 0.7403\n",
            "Epoch 52/100\n",
            "20/20 [==============================] - 0s 8ms/step - loss: 0.3280 - accuracy: 0.8583 - val_loss: 0.6249 - val_accuracy: 0.7143\n",
            "Epoch 53/100\n",
            "20/20 [==============================] - 0s 8ms/step - loss: 0.3264 - accuracy: 0.8518 - val_loss: 0.6231 - val_accuracy: 0.7338\n",
            "Epoch 54/100\n",
            "20/20 [==============================] - 0s 9ms/step - loss: 0.3253 - accuracy: 0.8583 - val_loss: 0.6466 - val_accuracy: 0.7208\n",
            "Epoch 55/100\n",
            "20/20 [==============================] - 0s 11ms/step - loss: 0.3227 - accuracy: 0.8616 - val_loss: 0.6338 - val_accuracy: 0.7078\n",
            "Epoch 56/100\n",
            "20/20 [==============================] - 0s 8ms/step - loss: 0.3223 - accuracy: 0.8648 - val_loss: 0.6351 - val_accuracy: 0.7143\n",
            "Epoch 57/100\n",
            "20/20 [==============================] - 0s 7ms/step - loss: 0.3168 - accuracy: 0.8567 - val_loss: 0.6254 - val_accuracy: 0.7468\n",
            "Epoch 58/100\n",
            "20/20 [==============================] - 0s 5ms/step - loss: 0.3184 - accuracy: 0.8599 - val_loss: 0.6281 - val_accuracy: 0.7468\n",
            "Epoch 59/100\n",
            "20/20 [==============================] - 0s 5ms/step - loss: 0.3143 - accuracy: 0.8681 - val_loss: 0.6479 - val_accuracy: 0.7208\n",
            "Epoch 60/100\n",
            "20/20 [==============================] - 0s 5ms/step - loss: 0.3143 - accuracy: 0.8648 - val_loss: 0.6468 - val_accuracy: 0.7403\n",
            "Epoch 61/100\n",
            "20/20 [==============================] - 0s 5ms/step - loss: 0.3119 - accuracy: 0.8681 - val_loss: 0.6594 - val_accuracy: 0.7208\n",
            "Epoch 62/100\n",
            "20/20 [==============================] - 0s 5ms/step - loss: 0.3084 - accuracy: 0.8632 - val_loss: 0.6574 - val_accuracy: 0.7013\n",
            "Epoch 63/100\n",
            "20/20 [==============================] - 0s 5ms/step - loss: 0.3071 - accuracy: 0.8681 - val_loss: 0.6378 - val_accuracy: 0.7338\n",
            "Epoch 64/100\n",
            "20/20 [==============================] - 0s 5ms/step - loss: 0.3071 - accuracy: 0.8616 - val_loss: 0.6457 - val_accuracy: 0.7208\n",
            "Epoch 65/100\n",
            "20/20 [==============================] - 0s 5ms/step - loss: 0.3035 - accuracy: 0.8632 - val_loss: 0.6533 - val_accuracy: 0.7338\n",
            "Epoch 66/100\n",
            "20/20 [==============================] - 0s 5ms/step - loss: 0.2996 - accuracy: 0.8795 - val_loss: 0.6706 - val_accuracy: 0.7078\n",
            "Epoch 67/100\n",
            "20/20 [==============================] - 0s 5ms/step - loss: 0.2975 - accuracy: 0.8713 - val_loss: 0.6569 - val_accuracy: 0.7338\n",
            "Epoch 68/100\n",
            "20/20 [==============================] - 0s 5ms/step - loss: 0.3026 - accuracy: 0.8713 - val_loss: 0.6485 - val_accuracy: 0.7403\n",
            "Epoch 69/100\n",
            "20/20 [==============================] - 0s 5ms/step - loss: 0.2938 - accuracy: 0.8779 - val_loss: 0.6518 - val_accuracy: 0.7532\n",
            "Epoch 70/100\n",
            "20/20 [==============================] - 0s 5ms/step - loss: 0.2896 - accuracy: 0.8730 - val_loss: 0.6756 - val_accuracy: 0.7143\n",
            "Epoch 71/100\n",
            "20/20 [==============================] - 0s 5ms/step - loss: 0.2899 - accuracy: 0.8713 - val_loss: 0.6625 - val_accuracy: 0.7403\n",
            "Epoch 72/100\n",
            "20/20 [==============================] - 0s 5ms/step - loss: 0.2901 - accuracy: 0.8844 - val_loss: 0.6826 - val_accuracy: 0.7208\n",
            "Epoch 73/100\n",
            "20/20 [==============================] - 0s 5ms/step - loss: 0.2863 - accuracy: 0.8713 - val_loss: 0.6809 - val_accuracy: 0.7208\n",
            "Epoch 74/100\n",
            "20/20 [==============================] - 0s 5ms/step - loss: 0.2850 - accuracy: 0.8762 - val_loss: 0.6778 - val_accuracy: 0.7208\n",
            "Epoch 75/100\n",
            "20/20 [==============================] - 0s 5ms/step - loss: 0.2815 - accuracy: 0.8827 - val_loss: 0.6895 - val_accuracy: 0.7013\n",
            "Epoch 76/100\n",
            "20/20 [==============================] - 0s 5ms/step - loss: 0.2832 - accuracy: 0.8795 - val_loss: 0.6884 - val_accuracy: 0.7143\n",
            "Epoch 77/100\n",
            "20/20 [==============================] - 0s 5ms/step - loss: 0.2797 - accuracy: 0.8795 - val_loss: 0.7062 - val_accuracy: 0.7143\n",
            "Epoch 78/100\n",
            "20/20 [==============================] - 0s 5ms/step - loss: 0.2781 - accuracy: 0.8844 - val_loss: 0.7121 - val_accuracy: 0.7078\n",
            "Epoch 79/100\n",
            "20/20 [==============================] - 0s 5ms/step - loss: 0.2719 - accuracy: 0.8827 - val_loss: 0.6932 - val_accuracy: 0.7273\n",
            "Epoch 80/100\n",
            "20/20 [==============================] - 0s 5ms/step - loss: 0.2727 - accuracy: 0.8860 - val_loss: 0.7021 - val_accuracy: 0.7338\n",
            "Epoch 81/100\n",
            "20/20 [==============================] - 0s 6ms/step - loss: 0.2705 - accuracy: 0.8795 - val_loss: 0.7070 - val_accuracy: 0.7078\n",
            "Epoch 82/100\n",
            "20/20 [==============================] - 0s 5ms/step - loss: 0.2698 - accuracy: 0.8844 - val_loss: 0.7073 - val_accuracy: 0.6883\n",
            "Epoch 83/100\n",
            "20/20 [==============================] - 0s 5ms/step - loss: 0.2659 - accuracy: 0.8941 - val_loss: 0.7353 - val_accuracy: 0.7078\n",
            "Epoch 84/100\n",
            "20/20 [==============================] - 0s 5ms/step - loss: 0.2669 - accuracy: 0.8827 - val_loss: 0.7187 - val_accuracy: 0.7013\n",
            "Epoch 85/100\n",
            "20/20 [==============================] - 0s 5ms/step - loss: 0.2603 - accuracy: 0.8941 - val_loss: 0.7123 - val_accuracy: 0.7273\n",
            "Epoch 86/100\n",
            "20/20 [==============================] - 0s 5ms/step - loss: 0.2601 - accuracy: 0.8909 - val_loss: 0.7148 - val_accuracy: 0.7208\n",
            "Epoch 87/100\n",
            "20/20 [==============================] - 0s 6ms/step - loss: 0.2585 - accuracy: 0.9007 - val_loss: 0.7314 - val_accuracy: 0.6948\n",
            "Epoch 88/100\n",
            "20/20 [==============================] - 0s 5ms/step - loss: 0.2590 - accuracy: 0.8860 - val_loss: 0.7373 - val_accuracy: 0.6818\n",
            "Epoch 89/100\n",
            "20/20 [==============================] - 0s 5ms/step - loss: 0.2573 - accuracy: 0.8909 - val_loss: 0.7265 - val_accuracy: 0.7143\n",
            "Epoch 90/100\n",
            "20/20 [==============================] - 0s 5ms/step - loss: 0.2533 - accuracy: 0.8990 - val_loss: 0.7112 - val_accuracy: 0.7403\n",
            "Epoch 91/100\n",
            "20/20 [==============================] - 0s 5ms/step - loss: 0.2534 - accuracy: 0.8958 - val_loss: 0.7218 - val_accuracy: 0.7338\n",
            "Epoch 92/100\n",
            "20/20 [==============================] - 0s 5ms/step - loss: 0.2500 - accuracy: 0.8925 - val_loss: 0.7127 - val_accuracy: 0.7208\n",
            "Epoch 93/100\n",
            "20/20 [==============================] - 0s 5ms/step - loss: 0.2467 - accuracy: 0.9007 - val_loss: 0.7281 - val_accuracy: 0.7273\n",
            "Epoch 94/100\n",
            "20/20 [==============================] - 0s 5ms/step - loss: 0.2463 - accuracy: 0.9007 - val_loss: 0.7438 - val_accuracy: 0.7143\n",
            "Epoch 95/100\n",
            "20/20 [==============================] - 0s 5ms/step - loss: 0.2423 - accuracy: 0.8990 - val_loss: 0.7608 - val_accuracy: 0.6883\n",
            "Epoch 96/100\n",
            "20/20 [==============================] - 0s 5ms/step - loss: 0.2410 - accuracy: 0.8974 - val_loss: 0.7489 - val_accuracy: 0.7013\n",
            "Epoch 97/100\n",
            "20/20 [==============================] - 0s 5ms/step - loss: 0.2394 - accuracy: 0.8974 - val_loss: 0.7768 - val_accuracy: 0.6948\n",
            "Epoch 98/100\n",
            "20/20 [==============================] - 0s 5ms/step - loss: 0.2370 - accuracy: 0.9039 - val_loss: 0.7729 - val_accuracy: 0.7013\n",
            "Epoch 99/100\n",
            "20/20 [==============================] - 0s 5ms/step - loss: 0.2382 - accuracy: 0.9055 - val_loss: 0.7741 - val_accuracy: 0.6948\n",
            "Epoch 100/100\n",
            "20/20 [==============================] - 0s 5ms/step - loss: 0.2325 - accuracy: 0.9023 - val_loss: 0.7616 - val_accuracy: 0.6948\n"
          ]
        },
        {
          "output_type": "execute_result",
          "data": {
            "text/plain": [
              "<keras.callbacks.History at 0x7f1b90153250>"
            ]
          },
          "metadata": {},
          "execution_count": 16
        }
      ]
    },
    {
      "cell_type": "code",
      "source": [
        "# pip install keras-tuner"
      ],
      "metadata": {
        "id": "z2JzTt3HvupL"
      },
      "execution_count": 17,
      "outputs": []
    },
    {
      "cell_type": "code",
      "source": [
        "pip install -U keras-tuner"
      ],
      "metadata": {
        "id": "ldz1FS4QvvPs",
        "colab": {
          "base_uri": "https://localhost:8080/"
        },
        "outputId": "8ca79abb-813c-487f-bdb2-2c2505407871"
      },
      "execution_count": 18,
      "outputs": [
        {
          "output_type": "stream",
          "name": "stdout",
          "text": [
            "Collecting keras-tuner\n",
            "  Downloading keras_tuner-1.3.5-py3-none-any.whl (176 kB)\n",
            "\u001b[?25l     \u001b[90m━━━━━━━━━━━━━━━━━━━━━━━━━━━━━━━━━━━━━━━━\u001b[0m \u001b[32m0.0/176.1 kB\u001b[0m \u001b[31m?\u001b[0m eta \u001b[36m-:--:--\u001b[0m\r\u001b[2K     \u001b[90m━━━━━━━━━━━━━━━━━━━━━━━━━━━━━━━━━━━━━━━\u001b[0m \u001b[32m176.1/176.1 kB\u001b[0m \u001b[31m5.7 MB/s\u001b[0m eta \u001b[36m0:00:00\u001b[0m\n",
            "\u001b[?25hRequirement already satisfied: packaging in /usr/local/lib/python3.10/dist-packages (from keras-tuner) (23.1)\n",
            "Requirement already satisfied: requests in /usr/local/lib/python3.10/dist-packages (from keras-tuner) (2.27.1)\n",
            "Collecting kt-legacy (from keras-tuner)\n",
            "  Downloading kt_legacy-1.0.5-py3-none-any.whl (9.6 kB)\n",
            "Requirement already satisfied: urllib3<1.27,>=1.21.1 in /usr/local/lib/python3.10/dist-packages (from requests->keras-tuner) (1.26.16)\n",
            "Requirement already satisfied: certifi>=2017.4.17 in /usr/local/lib/python3.10/dist-packages (from requests->keras-tuner) (2023.5.7)\n",
            "Requirement already satisfied: charset-normalizer~=2.0.0 in /usr/local/lib/python3.10/dist-packages (from requests->keras-tuner) (2.0.12)\n",
            "Requirement already satisfied: idna<4,>=2.5 in /usr/local/lib/python3.10/dist-packages (from requests->keras-tuner) (3.4)\n",
            "Installing collected packages: kt-legacy, keras-tuner\n",
            "Successfully installed keras-tuner-1.3.5 kt-legacy-1.0.5\n"
          ]
        }
      ]
    },
    {
      "cell_type": "code",
      "source": [
        "# How to select the optimizer\n",
        "## How to find no.of nodes in a layer\n",
        "## How to select no.of layers\n",
        "## All in all model"
      ],
      "metadata": {
        "id": "yc-wf0-yxQmF"
      },
      "execution_count": 19,
      "outputs": []
    },
    {
      "cell_type": "code",
      "source": [],
      "metadata": {
        "id": "YcnQYSMuxltc"
      },
      "execution_count": 19,
      "outputs": []
    },
    {
      "cell_type": "code",
      "source": [
        "import keras_tuner as kt"
      ],
      "metadata": {
        "id": "ArUawsqQv0ck"
      },
      "execution_count": 20,
      "outputs": []
    },
    {
      "cell_type": "markdown",
      "source": [
        "* Now we should build an funciton"
      ],
      "metadata": {
        "id": "YklPlmBVz786"
      }
    },
    {
      "cell_type": "code",
      "source": [
        "def build_model(hp):\n",
        "\n",
        "  model = Sequential()\n",
        "  model.add(Dense(32,activation='relu',input_dim=8))\n",
        "  model.add(Dense(1,activation='sigmoid'))\n",
        "\n",
        "  optimizer = hp.Choice('optimizer',values=['adam','sgd','rmsprop','adadelta'])\n",
        "\n",
        "  model.compile(optimizer=optimizer,loss='binary_crossentropy',metrics=['accuracy'])\n",
        "\n",
        "  return model"
      ],
      "metadata": {
        "id": "iuRDvxTHz_5X"
      },
      "execution_count": 21,
      "outputs": []
    },
    {
      "cell_type": "code",
      "source": [
        "tuner =kt.RandomSearch(build_model,\n",
        "                objective='val_accuracy',\n",
        "                max_trials=5)"
      ],
      "metadata": {
        "id": "ogDxuU5N1bxG"
      },
      "execution_count": 22,
      "outputs": []
    },
    {
      "cell_type": "code",
      "source": [
        "tuner.search(x_train,y_train,epochs=5,validation_data=(x_test,y_test))"
      ],
      "metadata": {
        "id": "mGYhAKt22Dye",
        "colab": {
          "base_uri": "https://localhost:8080/"
        },
        "outputId": "a949ece7-5c00-4f8b-fc1e-b82e76bc7bcf"
      },
      "execution_count": 23,
      "outputs": [
        {
          "output_type": "stream",
          "name": "stdout",
          "text": [
            "Trial 4 Complete [00h 00m 05s]\n",
            "val_accuracy: 0.6818181872367859\n",
            "\n",
            "Best val_accuracy So Far: 0.8051947951316833\n",
            "Total elapsed time: 00h 00m 13s\n"
          ]
        }
      ]
    },
    {
      "cell_type": "code",
      "source": [
        "tuner.get_best_hyperparameters()[0].values"
      ],
      "metadata": {
        "colab": {
          "base_uri": "https://localhost:8080/"
        },
        "id": "ruZaGHnw2nxs",
        "outputId": "60f03240-482e-4e5b-be26-d4ee94e24429"
      },
      "execution_count": 24,
      "outputs": [
        {
          "output_type": "execute_result",
          "data": {
            "text/plain": [
              "{'optimizer': 'adam'}"
            ]
          },
          "metadata": {},
          "execution_count": 24
        }
      ]
    },
    {
      "cell_type": "code",
      "source": [
        "model = tuner.get_best_models(num_models=1)[0]"
      ],
      "metadata": {
        "id": "simiDIT9-uEy"
      },
      "execution_count": 25,
      "outputs": []
    },
    {
      "cell_type": "code",
      "source": [
        "def build_model(hp):\n",
        "  model = Sequential()\n",
        "  units=hp.Int('units',min_value=8,max_value=128)\n",
        "  model.add(Dense(units=units,activation='relu',input_dim=8))\n",
        "  model.add(Dense(1,activation='sigmoid'))\n",
        "\n",
        "  model.compile(loss='binary_crossentropy',optimizer='rmsprop',metrics=['accuracy'])\n",
        "\n",
        "  return model"
      ],
      "metadata": {
        "id": "yR85vAA7072p"
      },
      "execution_count": 26,
      "outputs": []
    },
    {
      "cell_type": "code",
      "source": [
        "tuner = kt.RandomSearch(build_model,\n",
        "                objective='val_accuracy',\n",
        "                max_trials=5,\n",
        "                directory='mydir',\n",
        "                        project_name='sunder pichai')"
      ],
      "metadata": {
        "id": "qeO3-OmDw56m"
      },
      "execution_count": 27,
      "outputs": []
    },
    {
      "cell_type": "code",
      "source": [
        "tuner.search(x_train,y_train,validation_data=(x_test,y_test),epochs=5)"
      ],
      "metadata": {
        "colab": {
          "base_uri": "https://localhost:8080/"
        },
        "id": "bhxXo52rxVlQ",
        "outputId": "507b60a3-c329-42f1-d363-3c9cc4b88abe"
      },
      "execution_count": 28,
      "outputs": [
        {
          "output_type": "stream",
          "name": "stdout",
          "text": [
            "Trial 5 Complete [00h 00m 08s]\n",
            "val_accuracy: 0.7142857313156128\n",
            "\n",
            "Best val_accuracy So Far: 0.7792207598686218\n",
            "Total elapsed time: 00h 00m 19s\n"
          ]
        }
      ]
    },
    {
      "cell_type": "code",
      "source": [
        "tuner.get_best_hyperparameters()[0].values"
      ],
      "metadata": {
        "colab": {
          "base_uri": "https://localhost:8080/"
        },
        "id": "d9Vd0DVxxdIQ",
        "outputId": "58ec756f-d039-429b-91c5-93e07260df20"
      },
      "execution_count": 29,
      "outputs": [
        {
          "output_type": "execute_result",
          "data": {
            "text/plain": [
              "{'units': 39}"
            ]
          },
          "metadata": {},
          "execution_count": 29
        }
      ]
    },
    {
      "cell_type": "code",
      "source": [
        "model = tuner.get_best_models(num_models=1)[0]"
      ],
      "metadata": {
        "id": "UiGdPGqX3yUa"
      },
      "execution_count": 30,
      "outputs": []
    },
    {
      "cell_type": "code",
      "source": [
        "model.fit(x_train,y_train,batch_size=32,epochs=100,initial_epoch=6,validation_data=(x_test,y_test))"
      ],
      "metadata": {
        "colab": {
          "base_uri": "https://localhost:8080/"
        },
        "id": "BLJflUds44Yq",
        "outputId": "39fdb718-5f1c-416e-b95c-038ef7c18034"
      },
      "execution_count": 31,
      "outputs": [
        {
          "output_type": "stream",
          "name": "stdout",
          "text": [
            "Epoch 7/100\n"
          ]
        },
        {
          "output_type": "stream",
          "name": "stderr",
          "text": [
            "WARNING:tensorflow:Detecting that an object or model or tf.train.Checkpoint is being deleted with unrestored values. See the following logs for the specific values in question. To silence these warnings, use `status.expect_partial()`. See https://www.tensorflow.org/api_docs/python/tf/train/Checkpoint#restorefor details about the status object returned by the restore function.\n",
            "WARNING:tensorflow:Value in checkpoint could not be found in the restored object: (root).optimizer._variables.1\n",
            "WARNING:tensorflow:Value in checkpoint could not be found in the restored object: (root).optimizer._variables.2\n",
            "WARNING:tensorflow:Value in checkpoint could not be found in the restored object: (root).optimizer._variables.3\n",
            "WARNING:tensorflow:Value in checkpoint could not be found in the restored object: (root).optimizer._variables.4\n",
            "WARNING:tensorflow:Value in checkpoint could not be found in the restored object: (root).optimizer._variables.5\n",
            "WARNING:tensorflow:Value in checkpoint could not be found in the restored object: (root).optimizer._variables.6\n",
            "WARNING:tensorflow:Value in checkpoint could not be found in the restored object: (root).optimizer._variables.7\n",
            "WARNING:tensorflow:Value in checkpoint could not be found in the restored object: (root).optimizer._variables.8\n"
          ]
        },
        {
          "output_type": "stream",
          "name": "stdout",
          "text": [
            "20/20 [==============================] - 1s 11ms/step - loss: 0.4998 - accuracy: 0.7655 - val_loss: 0.4985 - val_accuracy: 0.7792\n",
            "Epoch 8/100\n",
            "20/20 [==============================] - 0s 5ms/step - loss: 0.4872 - accuracy: 0.7655 - val_loss: 0.4937 - val_accuracy: 0.7727\n",
            "Epoch 9/100\n",
            "20/20 [==============================] - 0s 5ms/step - loss: 0.4789 - accuracy: 0.7655 - val_loss: 0.4924 - val_accuracy: 0.7792\n",
            "Epoch 10/100\n",
            "20/20 [==============================] - 0s 5ms/step - loss: 0.4724 - accuracy: 0.7655 - val_loss: 0.4917 - val_accuracy: 0.7662\n",
            "Epoch 11/100\n",
            "20/20 [==============================] - 0s 5ms/step - loss: 0.4670 - accuracy: 0.7638 - val_loss: 0.4914 - val_accuracy: 0.7662\n",
            "Epoch 12/100\n",
            "20/20 [==============================] - 0s 5ms/step - loss: 0.4627 - accuracy: 0.7671 - val_loss: 0.4922 - val_accuracy: 0.7792\n",
            "Epoch 13/100\n",
            "20/20 [==============================] - 0s 5ms/step - loss: 0.4593 - accuracy: 0.7671 - val_loss: 0.4910 - val_accuracy: 0.7857\n",
            "Epoch 14/100\n",
            "20/20 [==============================] - 0s 5ms/step - loss: 0.4558 - accuracy: 0.7671 - val_loss: 0.4921 - val_accuracy: 0.7857\n",
            "Epoch 15/100\n",
            "20/20 [==============================] - 0s 4ms/step - loss: 0.4534 - accuracy: 0.7704 - val_loss: 0.4925 - val_accuracy: 0.7922\n",
            "Epoch 16/100\n",
            "20/20 [==============================] - 0s 5ms/step - loss: 0.4511 - accuracy: 0.7785 - val_loss: 0.4945 - val_accuracy: 0.7922\n",
            "Epoch 17/100\n",
            "20/20 [==============================] - 0s 5ms/step - loss: 0.4488 - accuracy: 0.7752 - val_loss: 0.4962 - val_accuracy: 0.7857\n",
            "Epoch 18/100\n",
            "20/20 [==============================] - 0s 5ms/step - loss: 0.4470 - accuracy: 0.7801 - val_loss: 0.4990 - val_accuracy: 0.7792\n",
            "Epoch 19/100\n",
            "20/20 [==============================] - 0s 5ms/step - loss: 0.4450 - accuracy: 0.7866 - val_loss: 0.5025 - val_accuracy: 0.7727\n",
            "Epoch 20/100\n",
            "20/20 [==============================] - 0s 5ms/step - loss: 0.4437 - accuracy: 0.7850 - val_loss: 0.5048 - val_accuracy: 0.7727\n",
            "Epoch 21/100\n",
            "20/20 [==============================] - 0s 5ms/step - loss: 0.4422 - accuracy: 0.7834 - val_loss: 0.5061 - val_accuracy: 0.7727\n",
            "Epoch 22/100\n",
            "20/20 [==============================] - 0s 5ms/step - loss: 0.4406 - accuracy: 0.7883 - val_loss: 0.5088 - val_accuracy: 0.7727\n",
            "Epoch 23/100\n",
            "20/20 [==============================] - 0s 5ms/step - loss: 0.4393 - accuracy: 0.7883 - val_loss: 0.5115 - val_accuracy: 0.7727\n",
            "Epoch 24/100\n",
            "20/20 [==============================] - 0s 4ms/step - loss: 0.4381 - accuracy: 0.7818 - val_loss: 0.5128 - val_accuracy: 0.7597\n",
            "Epoch 25/100\n",
            "20/20 [==============================] - 0s 5ms/step - loss: 0.4371 - accuracy: 0.7866 - val_loss: 0.5122 - val_accuracy: 0.7792\n",
            "Epoch 26/100\n",
            "20/20 [==============================] - 0s 5ms/step - loss: 0.4361 - accuracy: 0.7850 - val_loss: 0.5128 - val_accuracy: 0.7727\n",
            "Epoch 27/100\n",
            "20/20 [==============================] - 0s 5ms/step - loss: 0.4353 - accuracy: 0.7866 - val_loss: 0.5135 - val_accuracy: 0.7727\n",
            "Epoch 28/100\n",
            "20/20 [==============================] - 0s 5ms/step - loss: 0.4344 - accuracy: 0.7883 - val_loss: 0.5149 - val_accuracy: 0.7727\n",
            "Epoch 29/100\n",
            "20/20 [==============================] - 0s 5ms/step - loss: 0.4334 - accuracy: 0.7866 - val_loss: 0.5162 - val_accuracy: 0.7727\n",
            "Epoch 30/100\n",
            "20/20 [==============================] - 0s 5ms/step - loss: 0.4329 - accuracy: 0.7932 - val_loss: 0.5159 - val_accuracy: 0.7727\n",
            "Epoch 31/100\n",
            "20/20 [==============================] - 0s 6ms/step - loss: 0.4314 - accuracy: 0.7899 - val_loss: 0.5173 - val_accuracy: 0.7597\n",
            "Epoch 32/100\n",
            "20/20 [==============================] - 0s 5ms/step - loss: 0.4304 - accuracy: 0.7883 - val_loss: 0.5194 - val_accuracy: 0.7662\n",
            "Epoch 33/100\n",
            "20/20 [==============================] - 0s 4ms/step - loss: 0.4296 - accuracy: 0.7866 - val_loss: 0.5200 - val_accuracy: 0.7662\n",
            "Epoch 34/100\n",
            "20/20 [==============================] - 0s 5ms/step - loss: 0.4291 - accuracy: 0.7883 - val_loss: 0.5219 - val_accuracy: 0.7727\n",
            "Epoch 35/100\n",
            "20/20 [==============================] - 0s 4ms/step - loss: 0.4285 - accuracy: 0.7915 - val_loss: 0.5224 - val_accuracy: 0.7727\n",
            "Epoch 36/100\n",
            "20/20 [==============================] - 0s 5ms/step - loss: 0.4272 - accuracy: 0.7883 - val_loss: 0.5246 - val_accuracy: 0.7662\n",
            "Epoch 37/100\n",
            "20/20 [==============================] - 0s 5ms/step - loss: 0.4263 - accuracy: 0.7866 - val_loss: 0.5246 - val_accuracy: 0.7792\n",
            "Epoch 38/100\n",
            "20/20 [==============================] - 0s 5ms/step - loss: 0.4254 - accuracy: 0.7915 - val_loss: 0.5257 - val_accuracy: 0.7727\n",
            "Epoch 39/100\n",
            "20/20 [==============================] - 0s 5ms/step - loss: 0.4252 - accuracy: 0.7818 - val_loss: 0.5275 - val_accuracy: 0.7727\n",
            "Epoch 40/100\n",
            "20/20 [==============================] - 0s 5ms/step - loss: 0.4245 - accuracy: 0.7834 - val_loss: 0.5286 - val_accuracy: 0.7727\n",
            "Epoch 41/100\n",
            "20/20 [==============================] - 0s 4ms/step - loss: 0.4240 - accuracy: 0.7866 - val_loss: 0.5296 - val_accuracy: 0.7727\n",
            "Epoch 42/100\n",
            "20/20 [==============================] - 0s 5ms/step - loss: 0.4230 - accuracy: 0.7899 - val_loss: 0.5296 - val_accuracy: 0.7792\n",
            "Epoch 43/100\n",
            "20/20 [==============================] - 0s 5ms/step - loss: 0.4225 - accuracy: 0.7866 - val_loss: 0.5294 - val_accuracy: 0.7792\n",
            "Epoch 44/100\n",
            "20/20 [==============================] - 0s 5ms/step - loss: 0.4220 - accuracy: 0.7850 - val_loss: 0.5290 - val_accuracy: 0.7792\n",
            "Epoch 45/100\n",
            "20/20 [==============================] - 0s 5ms/step - loss: 0.4210 - accuracy: 0.7899 - val_loss: 0.5301 - val_accuracy: 0.7727\n",
            "Epoch 46/100\n",
            "20/20 [==============================] - 0s 5ms/step - loss: 0.4206 - accuracy: 0.7964 - val_loss: 0.5306 - val_accuracy: 0.7792\n",
            "Epoch 47/100\n",
            "20/20 [==============================] - 0s 6ms/step - loss: 0.4196 - accuracy: 0.7948 - val_loss: 0.5328 - val_accuracy: 0.7792\n",
            "Epoch 48/100\n",
            "20/20 [==============================] - 0s 5ms/step - loss: 0.4194 - accuracy: 0.7932 - val_loss: 0.5312 - val_accuracy: 0.7792\n",
            "Epoch 49/100\n",
            "20/20 [==============================] - 0s 5ms/step - loss: 0.4183 - accuracy: 0.7932 - val_loss: 0.5331 - val_accuracy: 0.7792\n",
            "Epoch 50/100\n",
            "20/20 [==============================] - 0s 5ms/step - loss: 0.4182 - accuracy: 0.7980 - val_loss: 0.5340 - val_accuracy: 0.7792\n",
            "Epoch 51/100\n",
            "20/20 [==============================] - 0s 5ms/step - loss: 0.4173 - accuracy: 0.7997 - val_loss: 0.5336 - val_accuracy: 0.7792\n",
            "Epoch 52/100\n",
            "20/20 [==============================] - 0s 5ms/step - loss: 0.4169 - accuracy: 0.7964 - val_loss: 0.5359 - val_accuracy: 0.7792\n",
            "Epoch 53/100\n",
            "20/20 [==============================] - 0s 5ms/step - loss: 0.4162 - accuracy: 0.7997 - val_loss: 0.5369 - val_accuracy: 0.7727\n",
            "Epoch 54/100\n",
            "20/20 [==============================] - 0s 5ms/step - loss: 0.4156 - accuracy: 0.7948 - val_loss: 0.5367 - val_accuracy: 0.7727\n",
            "Epoch 55/100\n",
            "20/20 [==============================] - 0s 5ms/step - loss: 0.4151 - accuracy: 0.7964 - val_loss: 0.5377 - val_accuracy: 0.7727\n",
            "Epoch 56/100\n",
            "20/20 [==============================] - 0s 7ms/step - loss: 0.4148 - accuracy: 0.7948 - val_loss: 0.5398 - val_accuracy: 0.7662\n",
            "Epoch 57/100\n",
            "20/20 [==============================] - 0s 7ms/step - loss: 0.4144 - accuracy: 0.7932 - val_loss: 0.5387 - val_accuracy: 0.7727\n",
            "Epoch 58/100\n",
            "20/20 [==============================] - 0s 7ms/step - loss: 0.4135 - accuracy: 0.7964 - val_loss: 0.5384 - val_accuracy: 0.7727\n",
            "Epoch 59/100\n",
            "20/20 [==============================] - 0s 7ms/step - loss: 0.4131 - accuracy: 0.7915 - val_loss: 0.5392 - val_accuracy: 0.7662\n",
            "Epoch 60/100\n",
            "20/20 [==============================] - 0s 7ms/step - loss: 0.4123 - accuracy: 0.7980 - val_loss: 0.5400 - val_accuracy: 0.7597\n",
            "Epoch 61/100\n",
            "20/20 [==============================] - 0s 7ms/step - loss: 0.4119 - accuracy: 0.7932 - val_loss: 0.5384 - val_accuracy: 0.7662\n",
            "Epoch 62/100\n",
            "20/20 [==============================] - 0s 7ms/step - loss: 0.4113 - accuracy: 0.7964 - val_loss: 0.5398 - val_accuracy: 0.7662\n",
            "Epoch 63/100\n",
            "20/20 [==============================] - 0s 8ms/step - loss: 0.4110 - accuracy: 0.7948 - val_loss: 0.5407 - val_accuracy: 0.7662\n",
            "Epoch 64/100\n",
            "20/20 [==============================] - 0s 7ms/step - loss: 0.4105 - accuracy: 0.7948 - val_loss: 0.5410 - val_accuracy: 0.7792\n",
            "Epoch 65/100\n",
            "20/20 [==============================] - 0s 7ms/step - loss: 0.4101 - accuracy: 0.7948 - val_loss: 0.5421 - val_accuracy: 0.7662\n",
            "Epoch 66/100\n",
            "20/20 [==============================] - 0s 7ms/step - loss: 0.4096 - accuracy: 0.7948 - val_loss: 0.5434 - val_accuracy: 0.7597\n",
            "Epoch 67/100\n",
            "20/20 [==============================] - 0s 7ms/step - loss: 0.4089 - accuracy: 0.7948 - val_loss: 0.5438 - val_accuracy: 0.7532\n",
            "Epoch 68/100\n",
            "20/20 [==============================] - 0s 7ms/step - loss: 0.4084 - accuracy: 0.7964 - val_loss: 0.5453 - val_accuracy: 0.7532\n",
            "Epoch 69/100\n",
            "20/20 [==============================] - 0s 8ms/step - loss: 0.4079 - accuracy: 0.8046 - val_loss: 0.5436 - val_accuracy: 0.7532\n",
            "Epoch 70/100\n",
            "20/20 [==============================] - 0s 7ms/step - loss: 0.4076 - accuracy: 0.7948 - val_loss: 0.5447 - val_accuracy: 0.7532\n",
            "Epoch 71/100\n",
            "20/20 [==============================] - 0s 7ms/step - loss: 0.4069 - accuracy: 0.7997 - val_loss: 0.5432 - val_accuracy: 0.7532\n",
            "Epoch 72/100\n",
            "20/20 [==============================] - 0s 7ms/step - loss: 0.4064 - accuracy: 0.7915 - val_loss: 0.5438 - val_accuracy: 0.7532\n",
            "Epoch 73/100\n",
            "20/20 [==============================] - 0s 7ms/step - loss: 0.4062 - accuracy: 0.7932 - val_loss: 0.5441 - val_accuracy: 0.7532\n",
            "Epoch 74/100\n",
            "20/20 [==============================] - 0s 7ms/step - loss: 0.4059 - accuracy: 0.7964 - val_loss: 0.5439 - val_accuracy: 0.7532\n",
            "Epoch 75/100\n",
            "20/20 [==============================] - 0s 7ms/step - loss: 0.4050 - accuracy: 0.7964 - val_loss: 0.5460 - val_accuracy: 0.7468\n",
            "Epoch 76/100\n",
            "20/20 [==============================] - 0s 7ms/step - loss: 0.4049 - accuracy: 0.8013 - val_loss: 0.5473 - val_accuracy: 0.7532\n",
            "Epoch 77/100\n",
            "20/20 [==============================] - 0s 7ms/step - loss: 0.4046 - accuracy: 0.7964 - val_loss: 0.5475 - val_accuracy: 0.7532\n",
            "Epoch 78/100\n",
            "20/20 [==============================] - 0s 7ms/step - loss: 0.4040 - accuracy: 0.7980 - val_loss: 0.5463 - val_accuracy: 0.7468\n",
            "Epoch 79/100\n",
            "20/20 [==============================] - 0s 7ms/step - loss: 0.4032 - accuracy: 0.7948 - val_loss: 0.5458 - val_accuracy: 0.7468\n",
            "Epoch 80/100\n",
            "20/20 [==============================] - 0s 7ms/step - loss: 0.4039 - accuracy: 0.7932 - val_loss: 0.5469 - val_accuracy: 0.7468\n",
            "Epoch 81/100\n",
            "20/20 [==============================] - 0s 7ms/step - loss: 0.4028 - accuracy: 0.7964 - val_loss: 0.5473 - val_accuracy: 0.7532\n",
            "Epoch 82/100\n",
            "20/20 [==============================] - 0s 5ms/step - loss: 0.4022 - accuracy: 0.7948 - val_loss: 0.5497 - val_accuracy: 0.7532\n",
            "Epoch 83/100\n",
            "20/20 [==============================] - 0s 5ms/step - loss: 0.4027 - accuracy: 0.7980 - val_loss: 0.5497 - val_accuracy: 0.7532\n",
            "Epoch 84/100\n",
            "20/20 [==============================] - 0s 5ms/step - loss: 0.4016 - accuracy: 0.7980 - val_loss: 0.5503 - val_accuracy: 0.7468\n",
            "Epoch 85/100\n",
            "20/20 [==============================] - 0s 5ms/step - loss: 0.4016 - accuracy: 0.7964 - val_loss: 0.5496 - val_accuracy: 0.7532\n",
            "Epoch 86/100\n",
            "20/20 [==============================] - 0s 5ms/step - loss: 0.4011 - accuracy: 0.7997 - val_loss: 0.5517 - val_accuracy: 0.7532\n",
            "Epoch 87/100\n",
            "20/20 [==============================] - 0s 5ms/step - loss: 0.4005 - accuracy: 0.8013 - val_loss: 0.5525 - val_accuracy: 0.7532\n",
            "Epoch 88/100\n",
            "20/20 [==============================] - 0s 5ms/step - loss: 0.4003 - accuracy: 0.8013 - val_loss: 0.5534 - val_accuracy: 0.7532\n",
            "Epoch 89/100\n",
            "20/20 [==============================] - 0s 5ms/step - loss: 0.4008 - accuracy: 0.8029 - val_loss: 0.5521 - val_accuracy: 0.7532\n",
            "Epoch 90/100\n",
            "20/20 [==============================] - 0s 5ms/step - loss: 0.3994 - accuracy: 0.8062 - val_loss: 0.5504 - val_accuracy: 0.7468\n",
            "Epoch 91/100\n",
            "20/20 [==============================] - 0s 4ms/step - loss: 0.3995 - accuracy: 0.8029 - val_loss: 0.5532 - val_accuracy: 0.7468\n",
            "Epoch 92/100\n",
            "20/20 [==============================] - 0s 5ms/step - loss: 0.3996 - accuracy: 0.8029 - val_loss: 0.5522 - val_accuracy: 0.7468\n",
            "Epoch 93/100\n",
            "20/20 [==============================] - 0s 5ms/step - loss: 0.3983 - accuracy: 0.8029 - val_loss: 0.5513 - val_accuracy: 0.7403\n",
            "Epoch 94/100\n",
            "20/20 [==============================] - 0s 5ms/step - loss: 0.3982 - accuracy: 0.8046 - val_loss: 0.5535 - val_accuracy: 0.7468\n",
            "Epoch 95/100\n",
            "20/20 [==============================] - 0s 5ms/step - loss: 0.3983 - accuracy: 0.8111 - val_loss: 0.5552 - val_accuracy: 0.7468\n",
            "Epoch 96/100\n",
            "20/20 [==============================] - 0s 5ms/step - loss: 0.3975 - accuracy: 0.8078 - val_loss: 0.5549 - val_accuracy: 0.7532\n",
            "Epoch 97/100\n",
            "20/20 [==============================] - 0s 5ms/step - loss: 0.3973 - accuracy: 0.7997 - val_loss: 0.5547 - val_accuracy: 0.7468\n",
            "Epoch 98/100\n",
            "20/20 [==============================] - 0s 5ms/step - loss: 0.3970 - accuracy: 0.8111 - val_loss: 0.5553 - val_accuracy: 0.7532\n",
            "Epoch 99/100\n",
            "20/20 [==============================] - 0s 5ms/step - loss: 0.3968 - accuracy: 0.8046 - val_loss: 0.5563 - val_accuracy: 0.7468\n",
            "Epoch 100/100\n",
            "20/20 [==============================] - 0s 9ms/step - loss: 0.3965 - accuracy: 0.8029 - val_loss: 0.5569 - val_accuracy: 0.7468\n"
          ]
        },
        {
          "output_type": "execute_result",
          "data": {
            "text/plain": [
              "<keras.callbacks.History at 0x7f1b02e4ccd0>"
            ]
          },
          "metadata": {},
          "execution_count": 31
        }
      ]
    },
    {
      "cell_type": "code",
      "source": [
        "def build_model(hp):\n",
        "  model = Sequential()\n",
        "  model.add(Dense(115,activation='relu',input_dim=8))\n",
        "\n",
        "  for i in range(hp.Int('num_layers',min_value=1,max_value=10)):\n",
        "\n",
        "    model.add(Dense(115,activation='relu'))\n",
        "\n",
        "  model.add(Dense(1,activation='sigmoid'))\n",
        "\n",
        "  model.compile(optimizer='rmsprop',loss='binary_crossentropy',metrics=['accuracy'])\n",
        "\n",
        "  return model"
      ],
      "metadata": {
        "id": "CMGcTs8p5JdC"
      },
      "execution_count": 32,
      "outputs": []
    },
    {
      "cell_type": "code",
      "source": [
        "tuner = kt.RandomSearch(build_model,\n",
        "                        objective='val_accuracy',\n",
        "                        max_trials=5,\n",
        "                        directory='mydir',\n",
        "                        project_name='Dhanush Naidu')"
      ],
      "metadata": {
        "id": "W891yce78Ey-"
      },
      "execution_count": 33,
      "outputs": []
    },
    {
      "cell_type": "code",
      "source": [
        "tuner.search(x_train,y_train,epochs=5,validation_data=(x_test,y_test))"
      ],
      "metadata": {
        "colab": {
          "base_uri": "https://localhost:8080/"
        },
        "id": "p-rN501y8eyw",
        "outputId": "8c554450-e955-4c9d-a715-54149d3acdf2"
      },
      "execution_count": 34,
      "outputs": [
        {
          "output_type": "stream",
          "name": "stdout",
          "text": [
            "Trial 5 Complete [00h 00m 07s]\n",
            "val_accuracy: 0.7857142686843872\n",
            "\n",
            "Best val_accuracy So Far: 0.8181818127632141\n",
            "Total elapsed time: 00h 00m 19s\n"
          ]
        }
      ]
    },
    {
      "cell_type": "code",
      "source": [
        "tuner.get_best_hyperparameters()[0].values"
      ],
      "metadata": {
        "colab": {
          "base_uri": "https://localhost:8080/"
        },
        "id": "9SO7GmI587OW",
        "outputId": "c9500ee3-7e1f-42d3-95a9-423c59f63b53"
      },
      "execution_count": 35,
      "outputs": [
        {
          "output_type": "execute_result",
          "data": {
            "text/plain": [
              "{'num_layers': 6}"
            ]
          },
          "metadata": {},
          "execution_count": 35
        }
      ]
    },
    {
      "cell_type": "code",
      "source": [
        "model = tuner.get_best_models(num_models=1)[0]"
      ],
      "metadata": {
        "id": "J4aHr5hs9D2E"
      },
      "execution_count": 36,
      "outputs": []
    },
    {
      "cell_type": "code",
      "source": [
        "model.fit(x_train,y_train,epochs=100,validation_data=(x_test,y_test))"
      ],
      "metadata": {
        "colab": {
          "base_uri": "https://localhost:8080/"
        },
        "id": "Ml7al4Fg9lfD",
        "outputId": "536d5c24-a32b-4f85-cbc8-1e2e1b9b3c48"
      },
      "execution_count": 37,
      "outputs": [
        {
          "output_type": "stream",
          "name": "stdout",
          "text": [
            "Epoch 1/100\n",
            "20/20 [==============================] - 2s 15ms/step - loss: 0.4233 - accuracy: 0.8078 - val_loss: 0.5470 - val_accuracy: 0.7987\n",
            "Epoch 2/100\n",
            "20/20 [==============================] - 0s 9ms/step - loss: 0.4249 - accuracy: 0.8029 - val_loss: 0.5382 - val_accuracy: 0.7727\n",
            "Epoch 3/100\n",
            "20/20 [==============================] - 0s 9ms/step - loss: 0.3959 - accuracy: 0.8208 - val_loss: 0.5624 - val_accuracy: 0.7532\n",
            "Epoch 4/100\n",
            "20/20 [==============================] - 0s 8ms/step - loss: 0.3912 - accuracy: 0.8339 - val_loss: 0.6051 - val_accuracy: 0.7208\n",
            "Epoch 5/100\n",
            "20/20 [==============================] - 0s 11ms/step - loss: 0.3839 - accuracy: 0.8257 - val_loss: 0.6651 - val_accuracy: 0.6818\n",
            "Epoch 6/100\n",
            "20/20 [==============================] - 0s 9ms/step - loss: 0.3671 - accuracy: 0.8388 - val_loss: 0.6305 - val_accuracy: 0.7662\n",
            "Epoch 7/100\n",
            "20/20 [==============================] - 0s 9ms/step - loss: 0.3430 - accuracy: 0.8583 - val_loss: 0.7132 - val_accuracy: 0.7468\n",
            "Epoch 8/100\n",
            "20/20 [==============================] - 0s 9ms/step - loss: 0.3345 - accuracy: 0.8599 - val_loss: 0.6245 - val_accuracy: 0.7338\n",
            "Epoch 9/100\n",
            "20/20 [==============================] - 0s 8ms/step - loss: 0.3339 - accuracy: 0.8583 - val_loss: 0.7166 - val_accuracy: 0.7662\n",
            "Epoch 10/100\n",
            "20/20 [==============================] - 0s 9ms/step - loss: 0.3243 - accuracy: 0.8632 - val_loss: 0.6610 - val_accuracy: 0.7532\n",
            "Epoch 11/100\n",
            "20/20 [==============================] - 0s 9ms/step - loss: 0.2881 - accuracy: 0.8827 - val_loss: 0.7868 - val_accuracy: 0.7338\n",
            "Epoch 12/100\n",
            "20/20 [==============================] - 0s 9ms/step - loss: 0.2964 - accuracy: 0.8779 - val_loss: 0.7731 - val_accuracy: 0.7403\n",
            "Epoch 13/100\n",
            "20/20 [==============================] - 0s 8ms/step - loss: 0.2577 - accuracy: 0.8909 - val_loss: 0.8437 - val_accuracy: 0.7013\n",
            "Epoch 14/100\n",
            "20/20 [==============================] - 0s 8ms/step - loss: 0.2533 - accuracy: 0.8925 - val_loss: 0.7747 - val_accuracy: 0.7143\n",
            "Epoch 15/100\n",
            "20/20 [==============================] - 0s 9ms/step - loss: 0.2395 - accuracy: 0.8958 - val_loss: 0.9109 - val_accuracy: 0.6948\n",
            "Epoch 16/100\n",
            "20/20 [==============================] - 0s 9ms/step - loss: 0.2471 - accuracy: 0.8990 - val_loss: 0.8559 - val_accuracy: 0.7468\n",
            "Epoch 17/100\n",
            "20/20 [==============================] - 0s 9ms/step - loss: 0.2113 - accuracy: 0.9267 - val_loss: 1.0593 - val_accuracy: 0.6883\n",
            "Epoch 18/100\n",
            "20/20 [==============================] - 0s 9ms/step - loss: 0.1992 - accuracy: 0.9218 - val_loss: 0.9277 - val_accuracy: 0.7143\n",
            "Epoch 19/100\n",
            "20/20 [==============================] - 0s 9ms/step - loss: 0.2131 - accuracy: 0.9169 - val_loss: 1.0122 - val_accuracy: 0.7078\n",
            "Epoch 20/100\n",
            "20/20 [==============================] - 0s 8ms/step - loss: 0.1719 - accuracy: 0.9300 - val_loss: 1.2917 - val_accuracy: 0.6818\n",
            "Epoch 21/100\n",
            "20/20 [==============================] - 0s 9ms/step - loss: 0.1698 - accuracy: 0.9267 - val_loss: 1.5128 - val_accuracy: 0.7078\n",
            "Epoch 22/100\n",
            "20/20 [==============================] - 0s 6ms/step - loss: 0.1671 - accuracy: 0.9381 - val_loss: 1.3432 - val_accuracy: 0.7013\n",
            "Epoch 23/100\n",
            "20/20 [==============================] - 0s 7ms/step - loss: 0.1394 - accuracy: 0.9446 - val_loss: 1.5187 - val_accuracy: 0.6883\n",
            "Epoch 24/100\n",
            "20/20 [==============================] - 0s 6ms/step - loss: 0.1583 - accuracy: 0.9446 - val_loss: 1.7004 - val_accuracy: 0.6948\n",
            "Epoch 25/100\n",
            "20/20 [==============================] - 0s 5ms/step - loss: 0.1279 - accuracy: 0.9609 - val_loss: 1.6596 - val_accuracy: 0.6883\n",
            "Epoch 26/100\n",
            "20/20 [==============================] - 0s 6ms/step - loss: 0.1450 - accuracy: 0.9446 - val_loss: 1.5753 - val_accuracy: 0.6623\n",
            "Epoch 27/100\n",
            "20/20 [==============================] - 0s 6ms/step - loss: 0.1016 - accuracy: 0.9593 - val_loss: 1.7483 - val_accuracy: 0.7208\n",
            "Epoch 28/100\n",
            "20/20 [==============================] - 0s 6ms/step - loss: 0.1173 - accuracy: 0.9544 - val_loss: 2.0405 - val_accuracy: 0.6948\n",
            "Epoch 29/100\n",
            "20/20 [==============================] - 0s 6ms/step - loss: 0.1385 - accuracy: 0.9544 - val_loss: 1.7013 - val_accuracy: 0.6883\n",
            "Epoch 30/100\n",
            "20/20 [==============================] - 0s 6ms/step - loss: 0.0932 - accuracy: 0.9691 - val_loss: 2.0052 - val_accuracy: 0.6558\n",
            "Epoch 31/100\n",
            "20/20 [==============================] - 0s 6ms/step - loss: 0.1031 - accuracy: 0.9642 - val_loss: 1.7006 - val_accuracy: 0.7143\n",
            "Epoch 32/100\n",
            "20/20 [==============================] - 0s 6ms/step - loss: 0.1186 - accuracy: 0.9723 - val_loss: 2.2065 - val_accuracy: 0.6753\n",
            "Epoch 33/100\n",
            "20/20 [==============================] - 0s 6ms/step - loss: 0.0618 - accuracy: 0.9772 - val_loss: 2.4602 - val_accuracy: 0.6883\n",
            "Epoch 34/100\n",
            "20/20 [==============================] - 0s 6ms/step - loss: 0.0812 - accuracy: 0.9756 - val_loss: 2.1127 - val_accuracy: 0.6234\n",
            "Epoch 35/100\n",
            "20/20 [==============================] - 0s 6ms/step - loss: 0.0568 - accuracy: 0.9772 - val_loss: 2.2827 - val_accuracy: 0.6558\n",
            "Epoch 36/100\n",
            "20/20 [==============================] - 0s 6ms/step - loss: 0.0971 - accuracy: 0.9707 - val_loss: 2.1374 - val_accuracy: 0.6558\n",
            "Epoch 37/100\n",
            "20/20 [==============================] - 0s 6ms/step - loss: 0.0858 - accuracy: 0.9691 - val_loss: 2.0358 - val_accuracy: 0.6818\n",
            "Epoch 38/100\n",
            "20/20 [==============================] - 0s 6ms/step - loss: 0.0543 - accuracy: 0.9853 - val_loss: 2.0941 - val_accuracy: 0.6494\n",
            "Epoch 39/100\n",
            "20/20 [==============================] - 0s 6ms/step - loss: 0.1079 - accuracy: 0.9625 - val_loss: 2.1646 - val_accuracy: 0.6753\n",
            "Epoch 40/100\n",
            "20/20 [==============================] - 0s 6ms/step - loss: 0.0347 - accuracy: 0.9886 - val_loss: 2.8805 - val_accuracy: 0.7208\n",
            "Epoch 41/100\n",
            "20/20 [==============================] - 0s 6ms/step - loss: 0.1161 - accuracy: 0.9609 - val_loss: 2.2961 - val_accuracy: 0.6948\n",
            "Epoch 42/100\n",
            "20/20 [==============================] - 0s 7ms/step - loss: 0.0488 - accuracy: 0.9805 - val_loss: 2.5014 - val_accuracy: 0.7078\n",
            "Epoch 43/100\n",
            "20/20 [==============================] - 0s 5ms/step - loss: 0.0753 - accuracy: 0.9756 - val_loss: 2.3357 - val_accuracy: 0.6753\n",
            "Epoch 44/100\n",
            "20/20 [==============================] - 0s 6ms/step - loss: 0.0344 - accuracy: 0.9886 - val_loss: 2.4242 - val_accuracy: 0.6623\n",
            "Epoch 45/100\n",
            "20/20 [==============================] - 0s 6ms/step - loss: 0.1204 - accuracy: 0.9707 - val_loss: 2.2474 - val_accuracy: 0.6623\n",
            "Epoch 46/100\n",
            "20/20 [==============================] - 0s 6ms/step - loss: 0.0254 - accuracy: 0.9919 - val_loss: 2.6364 - val_accuracy: 0.6688\n",
            "Epoch 47/100\n",
            "20/20 [==============================] - 0s 13ms/step - loss: 0.0868 - accuracy: 0.9674 - val_loss: 2.2715 - val_accuracy: 0.6623\n",
            "Epoch 48/100\n",
            "20/20 [==============================] - 0s 12ms/step - loss: 0.0293 - accuracy: 0.9902 - val_loss: 2.2069 - val_accuracy: 0.6623\n",
            "Epoch 49/100\n",
            "20/20 [==============================] - 0s 7ms/step - loss: 0.0230 - accuracy: 0.9886 - val_loss: 2.8090 - val_accuracy: 0.6753\n",
            "Epoch 50/100\n",
            "20/20 [==============================] - 0s 6ms/step - loss: 0.0691 - accuracy: 0.9723 - val_loss: 2.4103 - val_accuracy: 0.6688\n",
            "Epoch 51/100\n",
            "20/20 [==============================] - 0s 6ms/step - loss: 0.0256 - accuracy: 0.9886 - val_loss: 2.4876 - val_accuracy: 0.6623\n",
            "Epoch 52/100\n",
            "20/20 [==============================] - 0s 6ms/step - loss: 0.0563 - accuracy: 0.9821 - val_loss: 2.6152 - val_accuracy: 0.7143\n",
            "Epoch 53/100\n",
            "20/20 [==============================] - 0s 19ms/step - loss: 0.0470 - accuracy: 0.9837 - val_loss: 2.8454 - val_accuracy: 0.6948\n",
            "Epoch 54/100\n",
            "20/20 [==============================] - 0s 9ms/step - loss: 0.0191 - accuracy: 0.9935 - val_loss: 3.4917 - val_accuracy: 0.6818\n",
            "Epoch 55/100\n",
            "20/20 [==============================] - 0s 6ms/step - loss: 0.0703 - accuracy: 0.9788 - val_loss: 2.5375 - val_accuracy: 0.7013\n",
            "Epoch 56/100\n",
            "20/20 [==============================] - 0s 5ms/step - loss: 0.0240 - accuracy: 0.9951 - val_loss: 3.2630 - val_accuracy: 0.6883\n",
            "Epoch 57/100\n",
            "20/20 [==============================] - 0s 6ms/step - loss: 0.0860 - accuracy: 0.9739 - val_loss: 2.5033 - val_accuracy: 0.7013\n",
            "Epoch 58/100\n",
            "20/20 [==============================] - 0s 16ms/step - loss: 0.0154 - accuracy: 0.9951 - val_loss: 2.9385 - val_accuracy: 0.7078\n",
            "Epoch 59/100\n",
            "20/20 [==============================] - 0s 11ms/step - loss: 0.0852 - accuracy: 0.9707 - val_loss: 2.3432 - val_accuracy: 0.6948\n",
            "Epoch 60/100\n",
            "20/20 [==============================] - 0s 6ms/step - loss: 0.0131 - accuracy: 0.9967 - val_loss: 3.4478 - val_accuracy: 0.7208\n",
            "Epoch 61/100\n",
            "20/20 [==============================] - 0s 6ms/step - loss: 0.0956 - accuracy: 0.9756 - val_loss: 2.5716 - val_accuracy: 0.6688\n",
            "Epoch 62/100\n",
            "20/20 [==============================] - 0s 6ms/step - loss: 0.0067 - accuracy: 1.0000 - val_loss: 3.2147 - val_accuracy: 0.6883\n",
            "Epoch 63/100\n",
            "20/20 [==============================] - 0s 6ms/step - loss: 0.0178 - accuracy: 0.9935 - val_loss: 3.4934 - val_accuracy: 0.6688\n",
            "Epoch 64/100\n",
            "20/20 [==============================] - 0s 7ms/step - loss: 0.1858 - accuracy: 0.9658 - val_loss: 2.7200 - val_accuracy: 0.7078\n",
            "Epoch 65/100\n",
            "20/20 [==============================] - 0s 6ms/step - loss: 0.0153 - accuracy: 0.9967 - val_loss: 2.8333 - val_accuracy: 0.6948\n",
            "Epoch 66/100\n",
            "20/20 [==============================] - 0s 6ms/step - loss: 0.0032 - accuracy: 1.0000 - val_loss: 3.2176 - val_accuracy: 0.6818\n",
            "Epoch 67/100\n",
            "20/20 [==============================] - 0s 7ms/step - loss: 0.0018 - accuracy: 1.0000 - val_loss: 3.5032 - val_accuracy: 0.6818\n",
            "Epoch 68/100\n",
            "20/20 [==============================] - 0s 6ms/step - loss: 0.0809 - accuracy: 0.9723 - val_loss: 2.6890 - val_accuracy: 0.7208\n",
            "Epoch 69/100\n",
            "20/20 [==============================] - 0s 6ms/step - loss: 0.0305 - accuracy: 0.9935 - val_loss: 2.9198 - val_accuracy: 0.6883\n",
            "Epoch 70/100\n",
            "20/20 [==============================] - 0s 6ms/step - loss: 0.0026 - accuracy: 1.0000 - val_loss: 3.4547 - val_accuracy: 0.6753\n",
            "Epoch 71/100\n",
            "20/20 [==============================] - 0s 6ms/step - loss: 0.0103 - accuracy: 0.9967 - val_loss: 3.6717 - val_accuracy: 0.6883\n",
            "Epoch 72/100\n",
            "20/20 [==============================] - 0s 7ms/step - loss: 0.0821 - accuracy: 0.9772 - val_loss: 2.6094 - val_accuracy: 0.6948\n",
            "Epoch 73/100\n",
            "20/20 [==============================] - 0s 6ms/step - loss: 0.0364 - accuracy: 0.9919 - val_loss: 2.5187 - val_accuracy: 0.6818\n",
            "Epoch 74/100\n",
            "20/20 [==============================] - 0s 6ms/step - loss: 0.0244 - accuracy: 0.9967 - val_loss: 2.8436 - val_accuracy: 0.6753\n",
            "Epoch 75/100\n",
            "20/20 [==============================] - 0s 6ms/step - loss: 0.0323 - accuracy: 0.9919 - val_loss: 2.8061 - val_accuracy: 0.7013\n",
            "Epoch 76/100\n",
            "20/20 [==============================] - 0s 6ms/step - loss: 0.0146 - accuracy: 0.9967 - val_loss: 2.9269 - val_accuracy: 0.6169\n",
            "Epoch 77/100\n",
            "20/20 [==============================] - 0s 6ms/step - loss: 0.0608 - accuracy: 0.9870 - val_loss: 2.8374 - val_accuracy: 0.6753\n",
            "Epoch 78/100\n",
            "20/20 [==============================] - 0s 6ms/step - loss: 0.0022 - accuracy: 1.0000 - val_loss: 3.2982 - val_accuracy: 0.6883\n",
            "Epoch 79/100\n",
            "20/20 [==============================] - 0s 5ms/step - loss: 0.0023 - accuracy: 1.0000 - val_loss: 3.6954 - val_accuracy: 0.6688\n",
            "Epoch 80/100\n",
            "20/20 [==============================] - 0s 6ms/step - loss: 0.1539 - accuracy: 0.9707 - val_loss: 3.3332 - val_accuracy: 0.6883\n",
            "Epoch 81/100\n",
            "20/20 [==============================] - 0s 6ms/step - loss: 0.0022 - accuracy: 1.0000 - val_loss: 3.4794 - val_accuracy: 0.6818\n",
            "Epoch 82/100\n",
            "20/20 [==============================] - 0s 6ms/step - loss: 7.9293e-04 - accuracy: 1.0000 - val_loss: 3.7242 - val_accuracy: 0.6818\n",
            "Epoch 83/100\n",
            "20/20 [==============================] - 0s 6ms/step - loss: 4.4290e-04 - accuracy: 1.0000 - val_loss: 4.1581 - val_accuracy: 0.6818\n",
            "Epoch 84/100\n",
            "20/20 [==============================] - 0s 5ms/step - loss: 0.1097 - accuracy: 0.9788 - val_loss: 2.7605 - val_accuracy: 0.6753\n",
            "Epoch 85/100\n",
            "20/20 [==============================] - 0s 6ms/step - loss: 0.0120 - accuracy: 0.9951 - val_loss: 3.0866 - val_accuracy: 0.6753\n",
            "Epoch 86/100\n",
            "20/20 [==============================] - 0s 6ms/step - loss: 0.0023 - accuracy: 1.0000 - val_loss: 3.5278 - val_accuracy: 0.6753\n",
            "Epoch 87/100\n",
            "20/20 [==============================] - 0s 6ms/step - loss: 4.9764e-04 - accuracy: 1.0000 - val_loss: 3.8781 - val_accuracy: 0.6753\n",
            "Epoch 88/100\n",
            "20/20 [==============================] - 0s 7ms/step - loss: 0.0014 - accuracy: 1.0000 - val_loss: 4.3106 - val_accuracy: 0.6688\n",
            "Epoch 89/100\n",
            "20/20 [==============================] - 0s 7ms/step - loss: 0.1014 - accuracy: 0.9756 - val_loss: 3.2147 - val_accuracy: 0.6688\n",
            "Epoch 90/100\n",
            "20/20 [==============================] - 0s 6ms/step - loss: 0.0162 - accuracy: 0.9935 - val_loss: 3.2341 - val_accuracy: 0.6818\n",
            "Epoch 91/100\n",
            "20/20 [==============================] - 0s 7ms/step - loss: 0.0013 - accuracy: 1.0000 - val_loss: 3.5950 - val_accuracy: 0.6818\n",
            "Epoch 92/100\n",
            "20/20 [==============================] - 0s 6ms/step - loss: 4.9310e-04 - accuracy: 1.0000 - val_loss: 3.9297 - val_accuracy: 0.6818\n",
            "Epoch 93/100\n",
            "20/20 [==============================] - 0s 6ms/step - loss: 2.6785e-04 - accuracy: 1.0000 - val_loss: 4.1598 - val_accuracy: 0.6753\n",
            "Epoch 94/100\n",
            "20/20 [==============================] - 0s 9ms/step - loss: 2.2621e-04 - accuracy: 1.0000 - val_loss: 4.5342 - val_accuracy: 0.6883\n",
            "Epoch 95/100\n",
            "20/20 [==============================] - 0s 9ms/step - loss: 0.0660 - accuracy: 0.9821 - val_loss: 4.1779 - val_accuracy: 0.6753\n",
            "Epoch 96/100\n",
            "20/20 [==============================] - 0s 9ms/step - loss: 0.0778 - accuracy: 0.9821 - val_loss: 2.9216 - val_accuracy: 0.6948\n",
            "Epoch 97/100\n",
            "20/20 [==============================] - 0s 8ms/step - loss: 0.0021 - accuracy: 1.0000 - val_loss: 3.3094 - val_accuracy: 0.6688\n",
            "Epoch 98/100\n",
            "20/20 [==============================] - 0s 11ms/step - loss: 6.8134e-04 - accuracy: 1.0000 - val_loss: 3.5062 - val_accuracy: 0.6753\n",
            "Epoch 99/100\n",
            "20/20 [==============================] - 0s 8ms/step - loss: 3.3681e-04 - accuracy: 1.0000 - val_loss: 3.7571 - val_accuracy: 0.6753\n",
            "Epoch 100/100\n",
            "20/20 [==============================] - 0s 8ms/step - loss: 1.8752e-04 - accuracy: 1.0000 - val_loss: 3.9935 - val_accuracy: 0.6818\n"
          ]
        },
        {
          "output_type": "execute_result",
          "data": {
            "text/plain": [
              "<keras.callbacks.History at 0x7f1af57409d0>"
            ]
          },
          "metadata": {},
          "execution_count": 37
        }
      ]
    },
    {
      "cell_type": "code",
      "source": [
        "def build_model(hp):\n",
        "  model = Sequential()\n",
        "\n",
        "  counter = 0\n",
        "\n",
        "  for i in range(hp.Int('num_layers',min_value=8,max_value=10)):\n",
        "\n",
        "    if counter ==0:\n",
        "      model.add(Dense(hp.Int('units'+str(i),min_value=8,max_value=128,step=8),\n",
        "                      activation=hp.Choice('activation'+str(i),values=['relu','tanh','sigmoid']),input_dim=8))\n",
        "      model.add(Dropout(hp.Choice('dropout'+ str(i),values=[0.1,0.2,0.3,0.4,0.5,0.6,0.7,0.8,0.9])))\n",
        "    else:\n",
        "      model.add(Dense(hp.Int('units'+str(i),min_value=8,max_value=128,step=8),\n",
        "                      activation=hp.Choice('activation'+str(i),values=['relu','tanh','sigmoid'])))\n",
        "      model.add(Dropout(hp.Choice('dropout'+ str(i),values=[0.1,0.2,0.3,0.4,0.5,0.6,0.7,0.8,0.9])))\n",
        "\n",
        "    counter+=1\n",
        "\n",
        "  model.add(Dense(1,activation='sigmoid'))\n",
        "\n",
        "  model.compile(optimizer=hp.Choice('optimizer',values=['adam','rmsprop','adagrad','sgd',\n",
        "                                                        'nadam','adadelta']),\n",
        "                loss='binary_crossentropy',\n",
        "                metrics=['accuracy'])\n",
        "\n",
        "  return model"
      ],
      "metadata": {
        "id": "3BtMviJM9yOr"
      },
      "execution_count": 39,
      "outputs": []
    },
    {
      "cell_type": "code",
      "source": [
        "tuner = kt.RandomSearch(build_model,\n",
        "                        objective='val_accuracy',\n",
        "                        max_trials=5,\n",
        "                        directory='mydir',\n",
        "                        project_name='final')"
      ],
      "metadata": {
        "id": "5yckNkC2KwQn"
      },
      "execution_count": 43,
      "outputs": []
    },
    {
      "cell_type": "code",
      "source": [
        "tuner.search(x_train,y_train,epochs=200,validation_data=(x_test,y_test))"
      ],
      "metadata": {
        "colab": {
          "base_uri": "https://localhost:8080/"
        },
        "id": "g0IXIvCgLA7t",
        "outputId": "cbb6a4da-4a62-4bc4-e0ec-616d42ec6680"
      },
      "execution_count": 44,
      "outputs": [
        {
          "output_type": "stream",
          "name": "stdout",
          "text": [
            "Trial 5 Complete [00h 00m 38s]\n",
            "val_accuracy: 0.6428571343421936\n",
            "\n",
            "Best val_accuracy So Far: 0.7207792401313782\n",
            "Total elapsed time: 00h 04m 16s\n"
          ]
        }
      ]
    },
    {
      "cell_type": "code",
      "source": [
        "tuner.get_best_hyperparameters()[0].values"
      ],
      "metadata": {
        "colab": {
          "base_uri": "https://localhost:8080/"
        },
        "id": "Si62nzexMBut",
        "outputId": "46c083a4-86e6-42b0-8cdf-77a1ebd61f1c"
      },
      "execution_count": 46,
      "outputs": [
        {
          "output_type": "execute_result",
          "data": {
            "text/plain": [
              "{'num_layers': 9,\n",
              " 'units0': 88,\n",
              " 'activation0': 'tanh',\n",
              " 'dropout0': 0.1,\n",
              " 'units1': 32,\n",
              " 'activation1': 'relu',\n",
              " 'dropout1': 0.2,\n",
              " 'units2': 48,\n",
              " 'activation2': 'tanh',\n",
              " 'dropout2': 0.7,\n",
              " 'units3': 88,\n",
              " 'activation3': 'relu',\n",
              " 'dropout3': 0.3,\n",
              " 'units4': 88,\n",
              " 'activation4': 'relu',\n",
              " 'dropout4': 0.9,\n",
              " 'units5': 120,\n",
              " 'activation5': 'tanh',\n",
              " 'dropout5': 0.9,\n",
              " 'units6': 64,\n",
              " 'activation6': 'sigmoid',\n",
              " 'dropout6': 0.2,\n",
              " 'units7': 72,\n",
              " 'activation7': 'relu',\n",
              " 'dropout7': 0.4,\n",
              " 'optimizer': 'adam',\n",
              " 'units8': 112,\n",
              " 'activation8': 'tanh',\n",
              " 'dropout8': 0.8,\n",
              " 'units9': 112,\n",
              " 'activation9': 'relu',\n",
              " 'dropout9': 0.4}"
            ]
          },
          "metadata": {},
          "execution_count": 46
        }
      ]
    },
    {
      "cell_type": "code",
      "source": [
        "model = tuner.get_best_models(num_models=1)[0]"
      ],
      "metadata": {
        "id": "rPbJ9W2rNq8u"
      },
      "execution_count": 47,
      "outputs": []
    },
    {
      "cell_type": "code",
      "source": [
        "model"
      ],
      "metadata": {
        "colab": {
          "base_uri": "https://localhost:8080/"
        },
        "id": "QDznyt_qOHU6",
        "outputId": "92bcb199-d05e-4771-a61a-5f69865b7b55"
      },
      "execution_count": 48,
      "outputs": [
        {
          "output_type": "execute_result",
          "data": {
            "text/plain": [
              "<keras.engine.sequential.Sequential at 0x7f1b901529b0>"
            ]
          },
          "metadata": {},
          "execution_count": 48
        }
      ]
    },
    {
      "cell_type": "code",
      "source": [
        "model.fit(x_train,y_train,epochs=200,initial_epoch=5,validation_data=(x_test,y_test))"
      ],
      "metadata": {
        "colab": {
          "base_uri": "https://localhost:8080/"
        },
        "id": "TTILaRG5OH7Z",
        "outputId": "bce7edc7-44d3-4469-d11b-8c0807f4f296"
      },
      "execution_count": 49,
      "outputs": [
        {
          "output_type": "stream",
          "name": "stdout",
          "text": [
            "Epoch 6/200\n",
            "20/20 [==============================] - 5s 17ms/step - loss: 0.4884 - accuracy: 0.7850 - val_loss: 0.5721 - val_accuracy: 0.7078\n",
            "Epoch 7/200\n",
            "20/20 [==============================] - 0s 8ms/step - loss: 0.4835 - accuracy: 0.7899 - val_loss: 0.5612 - val_accuracy: 0.7208\n",
            "Epoch 8/200\n",
            "20/20 [==============================] - 0s 7ms/step - loss: 0.5101 - accuracy: 0.7752 - val_loss: 0.5797 - val_accuracy: 0.6883\n",
            "Epoch 9/200\n",
            "20/20 [==============================] - 0s 7ms/step - loss: 0.4963 - accuracy: 0.7915 - val_loss: 0.5627 - val_accuracy: 0.7208\n",
            "Epoch 10/200\n",
            "20/20 [==============================] - 0s 7ms/step - loss: 0.4850 - accuracy: 0.7932 - val_loss: 0.5652 - val_accuracy: 0.7273\n",
            "Epoch 11/200\n",
            "20/20 [==============================] - 0s 8ms/step - loss: 0.4886 - accuracy: 0.7883 - val_loss: 0.5682 - val_accuracy: 0.7208\n",
            "Epoch 12/200\n",
            "20/20 [==============================] - 0s 8ms/step - loss: 0.4893 - accuracy: 0.7704 - val_loss: 0.5698 - val_accuracy: 0.7208\n",
            "Epoch 13/200\n",
            "20/20 [==============================] - 0s 7ms/step - loss: 0.5093 - accuracy: 0.7818 - val_loss: 0.5883 - val_accuracy: 0.7013\n",
            "Epoch 14/200\n",
            "20/20 [==============================] - 0s 8ms/step - loss: 0.4975 - accuracy: 0.7850 - val_loss: 0.5836 - val_accuracy: 0.7013\n",
            "Epoch 15/200\n",
            "20/20 [==============================] - 0s 7ms/step - loss: 0.4681 - accuracy: 0.7997 - val_loss: 0.5825 - val_accuracy: 0.7078\n",
            "Epoch 16/200\n",
            "20/20 [==============================] - 0s 7ms/step - loss: 0.4875 - accuracy: 0.7899 - val_loss: 0.5788 - val_accuracy: 0.7143\n",
            "Epoch 17/200\n",
            "20/20 [==============================] - 0s 7ms/step - loss: 0.4838 - accuracy: 0.7834 - val_loss: 0.5825 - val_accuracy: 0.7143\n",
            "Epoch 18/200\n",
            "20/20 [==============================] - 0s 7ms/step - loss: 0.4935 - accuracy: 0.7850 - val_loss: 0.5631 - val_accuracy: 0.7143\n",
            "Epoch 19/200\n",
            "20/20 [==============================] - 0s 7ms/step - loss: 0.4635 - accuracy: 0.8111 - val_loss: 0.5720 - val_accuracy: 0.7273\n",
            "Epoch 20/200\n",
            "20/20 [==============================] - 0s 7ms/step - loss: 0.5030 - accuracy: 0.8062 - val_loss: 0.5700 - val_accuracy: 0.7273\n",
            "Epoch 21/200\n",
            "20/20 [==============================] - 0s 7ms/step - loss: 0.5058 - accuracy: 0.7834 - val_loss: 0.5619 - val_accuracy: 0.7338\n",
            "Epoch 22/200\n",
            "20/20 [==============================] - 0s 7ms/step - loss: 0.4700 - accuracy: 0.8013 - val_loss: 0.5640 - val_accuracy: 0.7403\n",
            "Epoch 23/200\n",
            "20/20 [==============================] - 0s 7ms/step - loss: 0.4779 - accuracy: 0.7948 - val_loss: 0.5735 - val_accuracy: 0.7273\n",
            "Epoch 24/200\n",
            "20/20 [==============================] - 0s 7ms/step - loss: 0.4901 - accuracy: 0.7964 - val_loss: 0.5810 - val_accuracy: 0.6948\n",
            "Epoch 25/200\n",
            "20/20 [==============================] - 0s 8ms/step - loss: 0.4990 - accuracy: 0.7785 - val_loss: 0.5857 - val_accuracy: 0.6883\n",
            "Epoch 26/200\n",
            "20/20 [==============================] - 0s 7ms/step - loss: 0.4857 - accuracy: 0.7915 - val_loss: 0.5924 - val_accuracy: 0.6948\n",
            "Epoch 27/200\n",
            "20/20 [==============================] - 0s 7ms/step - loss: 0.4902 - accuracy: 0.7866 - val_loss: 0.5978 - val_accuracy: 0.6948\n",
            "Epoch 28/200\n",
            "20/20 [==============================] - 0s 7ms/step - loss: 0.4935 - accuracy: 0.7769 - val_loss: 0.5896 - val_accuracy: 0.6948\n",
            "Epoch 29/200\n",
            "20/20 [==============================] - 0s 8ms/step - loss: 0.4765 - accuracy: 0.7834 - val_loss: 0.5862 - val_accuracy: 0.7078\n",
            "Epoch 30/200\n",
            "20/20 [==============================] - 0s 7ms/step - loss: 0.4676 - accuracy: 0.7785 - val_loss: 0.5794 - val_accuracy: 0.7143\n",
            "Epoch 31/200\n",
            "20/20 [==============================] - 0s 7ms/step - loss: 0.4857 - accuracy: 0.8094 - val_loss: 0.5767 - val_accuracy: 0.7143\n",
            "Epoch 32/200\n",
            "20/20 [==============================] - 0s 7ms/step - loss: 0.4884 - accuracy: 0.7932 - val_loss: 0.5872 - val_accuracy: 0.7078\n",
            "Epoch 33/200\n",
            "20/20 [==============================] - 0s 7ms/step - loss: 0.4846 - accuracy: 0.7883 - val_loss: 0.5782 - val_accuracy: 0.7013\n",
            "Epoch 34/200\n",
            "20/20 [==============================] - 0s 8ms/step - loss: 0.4388 - accuracy: 0.8127 - val_loss: 0.5761 - val_accuracy: 0.7013\n",
            "Epoch 35/200\n",
            "20/20 [==============================] - 0s 7ms/step - loss: 0.4720 - accuracy: 0.8029 - val_loss: 0.5822 - val_accuracy: 0.7078\n",
            "Epoch 36/200\n",
            "20/20 [==============================] - 0s 7ms/step - loss: 0.4819 - accuracy: 0.7932 - val_loss: 0.5731 - val_accuracy: 0.7273\n",
            "Epoch 37/200\n",
            "20/20 [==============================] - 0s 7ms/step - loss: 0.4872 - accuracy: 0.7883 - val_loss: 0.5522 - val_accuracy: 0.7273\n",
            "Epoch 38/200\n",
            "20/20 [==============================] - 0s 8ms/step - loss: 0.4753 - accuracy: 0.8029 - val_loss: 0.5569 - val_accuracy: 0.7403\n",
            "Epoch 39/200\n",
            "20/20 [==============================] - 0s 7ms/step - loss: 0.4926 - accuracy: 0.7866 - val_loss: 0.5774 - val_accuracy: 0.7013\n",
            "Epoch 40/200\n",
            "20/20 [==============================] - 0s 8ms/step - loss: 0.4900 - accuracy: 0.7834 - val_loss: 0.5876 - val_accuracy: 0.6883\n",
            "Epoch 41/200\n",
            "20/20 [==============================] - 0s 7ms/step - loss: 0.4754 - accuracy: 0.8013 - val_loss: 0.5902 - val_accuracy: 0.6948\n",
            "Epoch 42/200\n",
            "20/20 [==============================] - 0s 7ms/step - loss: 0.4889 - accuracy: 0.7915 - val_loss: 0.5942 - val_accuracy: 0.7013\n",
            "Epoch 43/200\n",
            "20/20 [==============================] - 0s 7ms/step - loss: 0.4677 - accuracy: 0.7932 - val_loss: 0.5906 - val_accuracy: 0.7078\n",
            "Epoch 44/200\n",
            "20/20 [==============================] - 0s 7ms/step - loss: 0.4739 - accuracy: 0.7932 - val_loss: 0.5784 - val_accuracy: 0.7078\n",
            "Epoch 45/200\n",
            "20/20 [==============================] - 0s 8ms/step - loss: 0.4733 - accuracy: 0.7818 - val_loss: 0.5746 - val_accuracy: 0.7013\n",
            "Epoch 46/200\n",
            "20/20 [==============================] - 0s 7ms/step - loss: 0.4727 - accuracy: 0.7866 - val_loss: 0.5867 - val_accuracy: 0.6948\n",
            "Epoch 47/200\n",
            "20/20 [==============================] - 0s 7ms/step - loss: 0.4744 - accuracy: 0.8078 - val_loss: 0.6082 - val_accuracy: 0.7013\n",
            "Epoch 48/200\n",
            "20/20 [==============================] - 0s 7ms/step - loss: 0.4662 - accuracy: 0.8062 - val_loss: 0.5985 - val_accuracy: 0.6883\n",
            "Epoch 49/200\n",
            "20/20 [==============================] - 0s 7ms/step - loss: 0.4679 - accuracy: 0.8143 - val_loss: 0.5906 - val_accuracy: 0.7013\n",
            "Epoch 50/200\n",
            "20/20 [==============================] - 0s 8ms/step - loss: 0.4700 - accuracy: 0.8111 - val_loss: 0.5982 - val_accuracy: 0.6948\n",
            "Epoch 51/200\n",
            "20/20 [==============================] - 0s 7ms/step - loss: 0.4564 - accuracy: 0.8029 - val_loss: 0.6061 - val_accuracy: 0.6948\n",
            "Epoch 52/200\n",
            "20/20 [==============================] - 0s 8ms/step - loss: 0.4695 - accuracy: 0.7997 - val_loss: 0.5949 - val_accuracy: 0.6948\n",
            "Epoch 53/200\n",
            "20/20 [==============================] - 0s 10ms/step - loss: 0.4815 - accuracy: 0.8013 - val_loss: 0.5820 - val_accuracy: 0.7143\n",
            "Epoch 54/200\n",
            "20/20 [==============================] - 0s 13ms/step - loss: 0.4612 - accuracy: 0.8046 - val_loss: 0.5834 - val_accuracy: 0.7013\n",
            "Epoch 55/200\n",
            "20/20 [==============================] - 0s 10ms/step - loss: 0.4911 - accuracy: 0.7834 - val_loss: 0.5830 - val_accuracy: 0.7013\n",
            "Epoch 56/200\n",
            "20/20 [==============================] - 0s 10ms/step - loss: 0.4726 - accuracy: 0.8094 - val_loss: 0.5858 - val_accuracy: 0.7078\n",
            "Epoch 57/200\n",
            "20/20 [==============================] - 0s 10ms/step - loss: 0.4645 - accuracy: 0.7980 - val_loss: 0.5909 - val_accuracy: 0.7013\n",
            "Epoch 58/200\n",
            "20/20 [==============================] - 0s 10ms/step - loss: 0.4854 - accuracy: 0.7899 - val_loss: 0.6016 - val_accuracy: 0.6883\n",
            "Epoch 59/200\n",
            "20/20 [==============================] - 0s 11ms/step - loss: 0.4730 - accuracy: 0.8127 - val_loss: 0.6064 - val_accuracy: 0.7013\n",
            "Epoch 60/200\n",
            "20/20 [==============================] - 0s 10ms/step - loss: 0.4580 - accuracy: 0.8127 - val_loss: 0.6057 - val_accuracy: 0.7013\n",
            "Epoch 61/200\n",
            "20/20 [==============================] - 0s 11ms/step - loss: 0.4663 - accuracy: 0.8013 - val_loss: 0.6021 - val_accuracy: 0.7013\n",
            "Epoch 62/200\n",
            "20/20 [==============================] - 0s 10ms/step - loss: 0.4758 - accuracy: 0.7997 - val_loss: 0.5997 - val_accuracy: 0.7078\n",
            "Epoch 63/200\n",
            "20/20 [==============================] - 0s 11ms/step - loss: 0.4710 - accuracy: 0.8127 - val_loss: 0.5938 - val_accuracy: 0.7143\n",
            "Epoch 64/200\n",
            "20/20 [==============================] - 0s 10ms/step - loss: 0.4731 - accuracy: 0.8111 - val_loss: 0.6036 - val_accuracy: 0.7078\n",
            "Epoch 65/200\n",
            "20/20 [==============================] - 0s 10ms/step - loss: 0.4558 - accuracy: 0.8160 - val_loss: 0.6016 - val_accuracy: 0.7013\n",
            "Epoch 66/200\n",
            "20/20 [==============================] - 0s 10ms/step - loss: 0.4605 - accuracy: 0.7997 - val_loss: 0.6001 - val_accuracy: 0.7078\n",
            "Epoch 67/200\n",
            "20/20 [==============================] - 0s 12ms/step - loss: 0.4852 - accuracy: 0.8029 - val_loss: 0.5804 - val_accuracy: 0.7208\n",
            "Epoch 68/200\n",
            "20/20 [==============================] - 0s 12ms/step - loss: 0.4696 - accuracy: 0.8062 - val_loss: 0.5810 - val_accuracy: 0.7078\n",
            "Epoch 69/200\n",
            "20/20 [==============================] - 0s 9ms/step - loss: 0.4538 - accuracy: 0.8111 - val_loss: 0.5844 - val_accuracy: 0.7013\n",
            "Epoch 70/200\n",
            "20/20 [==============================] - 0s 9ms/step - loss: 0.4750 - accuracy: 0.8062 - val_loss: 0.5919 - val_accuracy: 0.7013\n",
            "Epoch 71/200\n",
            "20/20 [==============================] - 0s 7ms/step - loss: 0.4675 - accuracy: 0.7964 - val_loss: 0.5989 - val_accuracy: 0.6948\n",
            "Epoch 72/200\n",
            "20/20 [==============================] - 0s 7ms/step - loss: 0.4443 - accuracy: 0.8062 - val_loss: 0.6077 - val_accuracy: 0.7013\n",
            "Epoch 73/200\n",
            "20/20 [==============================] - 0s 7ms/step - loss: 0.4623 - accuracy: 0.7997 - val_loss: 0.6082 - val_accuracy: 0.7013\n",
            "Epoch 74/200\n",
            "20/20 [==============================] - 0s 8ms/step - loss: 0.4889 - accuracy: 0.7899 - val_loss: 0.6041 - val_accuracy: 0.7013\n",
            "Epoch 75/200\n",
            "20/20 [==============================] - 0s 7ms/step - loss: 0.4594 - accuracy: 0.8029 - val_loss: 0.5948 - val_accuracy: 0.7013\n",
            "Epoch 76/200\n",
            "20/20 [==============================] - 0s 7ms/step - loss: 0.4646 - accuracy: 0.8046 - val_loss: 0.5845 - val_accuracy: 0.7143\n",
            "Epoch 77/200\n",
            "20/20 [==============================] - 0s 8ms/step - loss: 0.4755 - accuracy: 0.7997 - val_loss: 0.5972 - val_accuracy: 0.7078\n",
            "Epoch 78/200\n",
            "20/20 [==============================] - 0s 8ms/step - loss: 0.4573 - accuracy: 0.7899 - val_loss: 0.6044 - val_accuracy: 0.7013\n",
            "Epoch 79/200\n",
            "20/20 [==============================] - 0s 7ms/step - loss: 0.4407 - accuracy: 0.8111 - val_loss: 0.6083 - val_accuracy: 0.7078\n",
            "Epoch 80/200\n",
            "20/20 [==============================] - 0s 7ms/step - loss: 0.4752 - accuracy: 0.7964 - val_loss: 0.6058 - val_accuracy: 0.7078\n",
            "Epoch 81/200\n",
            "20/20 [==============================] - 0s 7ms/step - loss: 0.4561 - accuracy: 0.8160 - val_loss: 0.5976 - val_accuracy: 0.7143\n",
            "Epoch 82/200\n",
            "20/20 [==============================] - 0s 7ms/step - loss: 0.4702 - accuracy: 0.8046 - val_loss: 0.6045 - val_accuracy: 0.7013\n",
            "Epoch 83/200\n",
            "20/20 [==============================] - 0s 7ms/step - loss: 0.4640 - accuracy: 0.7915 - val_loss: 0.5944 - val_accuracy: 0.7078\n",
            "Epoch 84/200\n",
            "20/20 [==============================] - 0s 8ms/step - loss: 0.4681 - accuracy: 0.7964 - val_loss: 0.5892 - val_accuracy: 0.7078\n",
            "Epoch 85/200\n",
            "20/20 [==============================] - 0s 8ms/step - loss: 0.4728 - accuracy: 0.7964 - val_loss: 0.6142 - val_accuracy: 0.6818\n",
            "Epoch 86/200\n",
            "20/20 [==============================] - 0s 8ms/step - loss: 0.4597 - accuracy: 0.7997 - val_loss: 0.6076 - val_accuracy: 0.6883\n",
            "Epoch 87/200\n",
            "20/20 [==============================] - 0s 8ms/step - loss: 0.4588 - accuracy: 0.8062 - val_loss: 0.6366 - val_accuracy: 0.6818\n",
            "Epoch 88/200\n",
            "20/20 [==============================] - 0s 8ms/step - loss: 0.4740 - accuracy: 0.7997 - val_loss: 0.6072 - val_accuracy: 0.7078\n",
            "Epoch 89/200\n",
            "20/20 [==============================] - 0s 8ms/step - loss: 0.4607 - accuracy: 0.8192 - val_loss: 0.5902 - val_accuracy: 0.7078\n",
            "Epoch 90/200\n",
            "20/20 [==============================] - 0s 7ms/step - loss: 0.4696 - accuracy: 0.7964 - val_loss: 0.5908 - val_accuracy: 0.7078\n",
            "Epoch 91/200\n",
            "20/20 [==============================] - 0s 7ms/step - loss: 0.4630 - accuracy: 0.8062 - val_loss: 0.5969 - val_accuracy: 0.7078\n",
            "Epoch 92/200\n",
            "20/20 [==============================] - 0s 7ms/step - loss: 0.4544 - accuracy: 0.8029 - val_loss: 0.6137 - val_accuracy: 0.7078\n",
            "Epoch 93/200\n",
            "20/20 [==============================] - 0s 7ms/step - loss: 0.4464 - accuracy: 0.8225 - val_loss: 0.6068 - val_accuracy: 0.7143\n",
            "Epoch 94/200\n",
            "20/20 [==============================] - 0s 8ms/step - loss: 0.4756 - accuracy: 0.8013 - val_loss: 0.6106 - val_accuracy: 0.7078\n",
            "Epoch 95/200\n",
            "20/20 [==============================] - 0s 7ms/step - loss: 0.4740 - accuracy: 0.8046 - val_loss: 0.6144 - val_accuracy: 0.7013\n",
            "Epoch 96/200\n",
            "20/20 [==============================] - 0s 7ms/step - loss: 0.4733 - accuracy: 0.8013 - val_loss: 0.5993 - val_accuracy: 0.7013\n",
            "Epoch 97/200\n",
            "20/20 [==============================] - 0s 7ms/step - loss: 0.4668 - accuracy: 0.8078 - val_loss: 0.6029 - val_accuracy: 0.7013\n",
            "Epoch 98/200\n",
            "20/20 [==============================] - 0s 7ms/step - loss: 0.4501 - accuracy: 0.8160 - val_loss: 0.6126 - val_accuracy: 0.6883\n",
            "Epoch 99/200\n",
            "20/20 [==============================] - 0s 8ms/step - loss: 0.4442 - accuracy: 0.8241 - val_loss: 0.6242 - val_accuracy: 0.6948\n",
            "Epoch 100/200\n",
            "20/20 [==============================] - 0s 7ms/step - loss: 0.4489 - accuracy: 0.8160 - val_loss: 0.6146 - val_accuracy: 0.7013\n",
            "Epoch 101/200\n",
            "20/20 [==============================] - 0s 8ms/step - loss: 0.4474 - accuracy: 0.8143 - val_loss: 0.6166 - val_accuracy: 0.7013\n",
            "Epoch 102/200\n",
            "20/20 [==============================] - 0s 7ms/step - loss: 0.4616 - accuracy: 0.8078 - val_loss: 0.6074 - val_accuracy: 0.7143\n",
            "Epoch 103/200\n",
            "20/20 [==============================] - 0s 8ms/step - loss: 0.4353 - accuracy: 0.8257 - val_loss: 0.6109 - val_accuracy: 0.6948\n",
            "Epoch 104/200\n",
            "20/20 [==============================] - 0s 8ms/step - loss: 0.4495 - accuracy: 0.8306 - val_loss: 0.6124 - val_accuracy: 0.7078\n",
            "Epoch 105/200\n",
            "20/20 [==============================] - 0s 7ms/step - loss: 0.4627 - accuracy: 0.8208 - val_loss: 0.6074 - val_accuracy: 0.7078\n",
            "Epoch 106/200\n",
            "20/20 [==============================] - 0s 8ms/step - loss: 0.4427 - accuracy: 0.8143 - val_loss: 0.6103 - val_accuracy: 0.7143\n",
            "Epoch 107/200\n",
            "20/20 [==============================] - 0s 7ms/step - loss: 0.4626 - accuracy: 0.8062 - val_loss: 0.6284 - val_accuracy: 0.7013\n",
            "Epoch 108/200\n",
            "20/20 [==============================] - 0s 7ms/step - loss: 0.4536 - accuracy: 0.8143 - val_loss: 0.6045 - val_accuracy: 0.6948\n",
            "Epoch 109/200\n",
            "20/20 [==============================] - 0s 7ms/step - loss: 0.4515 - accuracy: 0.8111 - val_loss: 0.6061 - val_accuracy: 0.7078\n",
            "Epoch 110/200\n",
            "20/20 [==============================] - 0s 7ms/step - loss: 0.4570 - accuracy: 0.8225 - val_loss: 0.6286 - val_accuracy: 0.6948\n",
            "Epoch 111/200\n",
            "20/20 [==============================] - 0s 8ms/step - loss: 0.4663 - accuracy: 0.8143 - val_loss: 0.6299 - val_accuracy: 0.7013\n",
            "Epoch 112/200\n",
            "20/20 [==============================] - 0s 7ms/step - loss: 0.4344 - accuracy: 0.8127 - val_loss: 0.6004 - val_accuracy: 0.7078\n",
            "Epoch 113/200\n",
            "20/20 [==============================] - 0s 7ms/step - loss: 0.4602 - accuracy: 0.8111 - val_loss: 0.6006 - val_accuracy: 0.7078\n",
            "Epoch 114/200\n",
            "20/20 [==============================] - 0s 7ms/step - loss: 0.4503 - accuracy: 0.8160 - val_loss: 0.5972 - val_accuracy: 0.7143\n",
            "Epoch 115/200\n",
            "20/20 [==============================] - 0s 7ms/step - loss: 0.4451 - accuracy: 0.8127 - val_loss: 0.6049 - val_accuracy: 0.6948\n",
            "Epoch 116/200\n",
            "20/20 [==============================] - 0s 7ms/step - loss: 0.4767 - accuracy: 0.7899 - val_loss: 0.6166 - val_accuracy: 0.6948\n",
            "Epoch 117/200\n",
            "20/20 [==============================] - 0s 7ms/step - loss: 0.4541 - accuracy: 0.7997 - val_loss: 0.6283 - val_accuracy: 0.6818\n",
            "Epoch 118/200\n",
            "20/20 [==============================] - 0s 8ms/step - loss: 0.4520 - accuracy: 0.8013 - val_loss: 0.6225 - val_accuracy: 0.6753\n",
            "Epoch 119/200\n",
            "20/20 [==============================] - 0s 8ms/step - loss: 0.4465 - accuracy: 0.8078 - val_loss: 0.6123 - val_accuracy: 0.7013\n",
            "Epoch 120/200\n",
            "20/20 [==============================] - 0s 7ms/step - loss: 0.4617 - accuracy: 0.8013 - val_loss: 0.6198 - val_accuracy: 0.7013\n",
            "Epoch 121/200\n",
            "20/20 [==============================] - 0s 7ms/step - loss: 0.4692 - accuracy: 0.8062 - val_loss: 0.6084 - val_accuracy: 0.7013\n",
            "Epoch 122/200\n",
            "20/20 [==============================] - 0s 7ms/step - loss: 0.4636 - accuracy: 0.8029 - val_loss: 0.5928 - val_accuracy: 0.7208\n",
            "Epoch 123/200\n",
            "20/20 [==============================] - 0s 7ms/step - loss: 0.4511 - accuracy: 0.8094 - val_loss: 0.5927 - val_accuracy: 0.7013\n",
            "Epoch 124/200\n",
            "20/20 [==============================] - 0s 8ms/step - loss: 0.4555 - accuracy: 0.8225 - val_loss: 0.6099 - val_accuracy: 0.7078\n",
            "Epoch 125/200\n",
            "20/20 [==============================] - 0s 7ms/step - loss: 0.4449 - accuracy: 0.8094 - val_loss: 0.6124 - val_accuracy: 0.7013\n",
            "Epoch 126/200\n",
            "20/20 [==============================] - 0s 7ms/step - loss: 0.4635 - accuracy: 0.8046 - val_loss: 0.6187 - val_accuracy: 0.6948\n",
            "Epoch 127/200\n",
            "20/20 [==============================] - 0s 7ms/step - loss: 0.4269 - accuracy: 0.8241 - val_loss: 0.6093 - val_accuracy: 0.7143\n",
            "Epoch 128/200\n",
            "20/20 [==============================] - 0s 8ms/step - loss: 0.4588 - accuracy: 0.8078 - val_loss: 0.6089 - val_accuracy: 0.7143\n",
            "Epoch 129/200\n",
            "20/20 [==============================] - 0s 8ms/step - loss: 0.4601 - accuracy: 0.8094 - val_loss: 0.6062 - val_accuracy: 0.7143\n",
            "Epoch 130/200\n",
            "20/20 [==============================] - 0s 7ms/step - loss: 0.4467 - accuracy: 0.8208 - val_loss: 0.5958 - val_accuracy: 0.7143\n",
            "Epoch 131/200\n",
            "20/20 [==============================] - 0s 8ms/step - loss: 0.4504 - accuracy: 0.8192 - val_loss: 0.5802 - val_accuracy: 0.7143\n",
            "Epoch 132/200\n",
            "20/20 [==============================] - 0s 8ms/step - loss: 0.4480 - accuracy: 0.8127 - val_loss: 0.5947 - val_accuracy: 0.7143\n",
            "Epoch 133/200\n",
            "20/20 [==============================] - 0s 7ms/step - loss: 0.4510 - accuracy: 0.8176 - val_loss: 0.5807 - val_accuracy: 0.7208\n",
            "Epoch 134/200\n",
            "20/20 [==============================] - 0s 12ms/step - loss: 0.4588 - accuracy: 0.8127 - val_loss: 0.5798 - val_accuracy: 0.7208\n",
            "Epoch 135/200\n",
            "20/20 [==============================] - 0s 11ms/step - loss: 0.4836 - accuracy: 0.7980 - val_loss: 0.5893 - val_accuracy: 0.7078\n",
            "Epoch 136/200\n",
            "20/20 [==============================] - 0s 11ms/step - loss: 0.4661 - accuracy: 0.8094 - val_loss: 0.5907 - val_accuracy: 0.7078\n",
            "Epoch 137/200\n",
            "20/20 [==============================] - 0s 10ms/step - loss: 0.4473 - accuracy: 0.8111 - val_loss: 0.6147 - val_accuracy: 0.6948\n",
            "Epoch 138/200\n",
            "20/20 [==============================] - 0s 10ms/step - loss: 0.4552 - accuracy: 0.8094 - val_loss: 0.6174 - val_accuracy: 0.6883\n",
            "Epoch 139/200\n",
            "20/20 [==============================] - 0s 10ms/step - loss: 0.4394 - accuracy: 0.8143 - val_loss: 0.5909 - val_accuracy: 0.7013\n",
            "Epoch 140/200\n",
            "20/20 [==============================] - 0s 10ms/step - loss: 0.4608 - accuracy: 0.8013 - val_loss: 0.5992 - val_accuracy: 0.7078\n",
            "Epoch 141/200\n",
            "20/20 [==============================] - 0s 11ms/step - loss: 0.4781 - accuracy: 0.8046 - val_loss: 0.5742 - val_accuracy: 0.7143\n",
            "Epoch 142/200\n",
            "20/20 [==============================] - 0s 10ms/step - loss: 0.4364 - accuracy: 0.8143 - val_loss: 0.5767 - val_accuracy: 0.7078\n",
            "Epoch 143/200\n",
            "20/20 [==============================] - 0s 10ms/step - loss: 0.4424 - accuracy: 0.8257 - val_loss: 0.6022 - val_accuracy: 0.7078\n",
            "Epoch 144/200\n",
            "20/20 [==============================] - 0s 10ms/step - loss: 0.4475 - accuracy: 0.8176 - val_loss: 0.6093 - val_accuracy: 0.7078\n",
            "Epoch 145/200\n",
            "20/20 [==============================] - 0s 11ms/step - loss: 0.4596 - accuracy: 0.8046 - val_loss: 0.5943 - val_accuracy: 0.7078\n",
            "Epoch 146/200\n",
            "20/20 [==============================] - 0s 11ms/step - loss: 0.4388 - accuracy: 0.8160 - val_loss: 0.6038 - val_accuracy: 0.7208\n",
            "Epoch 147/200\n",
            "20/20 [==============================] - 0s 10ms/step - loss: 0.4427 - accuracy: 0.8046 - val_loss: 0.6161 - val_accuracy: 0.7013\n",
            "Epoch 148/200\n",
            "20/20 [==============================] - 0s 10ms/step - loss: 0.4626 - accuracy: 0.8013 - val_loss: 0.5765 - val_accuracy: 0.7338\n",
            "Epoch 149/200\n",
            "20/20 [==============================] - 0s 11ms/step - loss: 0.4329 - accuracy: 0.8176 - val_loss: 0.5939 - val_accuracy: 0.7208\n",
            "Epoch 150/200\n",
            "20/20 [==============================] - 0s 11ms/step - loss: 0.4584 - accuracy: 0.8094 - val_loss: 0.5783 - val_accuracy: 0.7403\n",
            "Epoch 151/200\n",
            "20/20 [==============================] - 0s 10ms/step - loss: 0.4714 - accuracy: 0.8192 - val_loss: 0.6106 - val_accuracy: 0.7143\n",
            "Epoch 152/200\n",
            "20/20 [==============================] - 0s 7ms/step - loss: 0.4596 - accuracy: 0.8225 - val_loss: 0.5836 - val_accuracy: 0.7208\n",
            "Epoch 153/200\n",
            "20/20 [==============================] - 0s 7ms/step - loss: 0.4612 - accuracy: 0.8241 - val_loss: 0.5850 - val_accuracy: 0.7143\n",
            "Epoch 154/200\n",
            "20/20 [==============================] - 0s 7ms/step - loss: 0.4467 - accuracy: 0.8241 - val_loss: 0.5819 - val_accuracy: 0.7208\n",
            "Epoch 155/200\n",
            "20/20 [==============================] - 0s 8ms/step - loss: 0.4714 - accuracy: 0.8062 - val_loss: 0.5734 - val_accuracy: 0.7208\n",
            "Epoch 156/200\n",
            "20/20 [==============================] - 0s 8ms/step - loss: 0.4251 - accuracy: 0.8257 - val_loss: 0.5958 - val_accuracy: 0.7078\n",
            "Epoch 157/200\n",
            "20/20 [==============================] - 0s 8ms/step - loss: 0.4505 - accuracy: 0.8143 - val_loss: 0.5983 - val_accuracy: 0.7273\n",
            "Epoch 158/200\n",
            "20/20 [==============================] - 0s 8ms/step - loss: 0.4476 - accuracy: 0.8176 - val_loss: 0.6020 - val_accuracy: 0.7078\n",
            "Epoch 159/200\n",
            "20/20 [==============================] - 0s 8ms/step - loss: 0.4615 - accuracy: 0.7948 - val_loss: 0.5819 - val_accuracy: 0.7143\n",
            "Epoch 160/200\n",
            "20/20 [==============================] - 0s 8ms/step - loss: 0.4157 - accuracy: 0.8241 - val_loss: 0.5920 - val_accuracy: 0.7273\n",
            "Epoch 161/200\n",
            "20/20 [==============================] - 0s 8ms/step - loss: 0.4593 - accuracy: 0.8111 - val_loss: 0.5705 - val_accuracy: 0.7403\n",
            "Epoch 162/200\n",
            "20/20 [==============================] - 0s 7ms/step - loss: 0.4454 - accuracy: 0.8192 - val_loss: 0.5481 - val_accuracy: 0.7468\n",
            "Epoch 163/200\n",
            "20/20 [==============================] - 0s 7ms/step - loss: 0.4368 - accuracy: 0.8306 - val_loss: 0.5728 - val_accuracy: 0.7273\n",
            "Epoch 164/200\n",
            "20/20 [==============================] - 0s 7ms/step - loss: 0.4445 - accuracy: 0.8306 - val_loss: 0.5621 - val_accuracy: 0.7403\n",
            "Epoch 165/200\n",
            "20/20 [==============================] - 0s 7ms/step - loss: 0.4298 - accuracy: 0.8371 - val_loss: 0.5672 - val_accuracy: 0.7403\n",
            "Epoch 166/200\n",
            "20/20 [==============================] - 0s 7ms/step - loss: 0.4391 - accuracy: 0.8355 - val_loss: 0.5553 - val_accuracy: 0.7468\n",
            "Epoch 167/200\n",
            "20/20 [==============================] - 0s 7ms/step - loss: 0.4629 - accuracy: 0.8127 - val_loss: 0.5526 - val_accuracy: 0.7468\n",
            "Epoch 168/200\n",
            "20/20 [==============================] - 0s 7ms/step - loss: 0.4656 - accuracy: 0.8160 - val_loss: 0.5562 - val_accuracy: 0.7468\n",
            "Epoch 169/200\n",
            "20/20 [==============================] - 0s 7ms/step - loss: 0.4735 - accuracy: 0.8029 - val_loss: 0.5681 - val_accuracy: 0.7338\n",
            "Epoch 170/200\n",
            "20/20 [==============================] - 0s 8ms/step - loss: 0.4394 - accuracy: 0.8127 - val_loss: 0.5792 - val_accuracy: 0.7208\n",
            "Epoch 171/200\n",
            "20/20 [==============================] - 0s 8ms/step - loss: 0.4361 - accuracy: 0.8111 - val_loss: 0.5831 - val_accuracy: 0.7143\n",
            "Epoch 172/200\n",
            "20/20 [==============================] - 0s 7ms/step - loss: 0.4483 - accuracy: 0.7964 - val_loss: 0.5984 - val_accuracy: 0.7078\n",
            "Epoch 173/200\n",
            "20/20 [==============================] - 0s 8ms/step - loss: 0.4390 - accuracy: 0.8127 - val_loss: 0.6200 - val_accuracy: 0.7013\n",
            "Epoch 174/200\n",
            "20/20 [==============================] - 0s 7ms/step - loss: 0.4534 - accuracy: 0.8062 - val_loss: 0.5947 - val_accuracy: 0.7273\n",
            "Epoch 175/200\n",
            "20/20 [==============================] - 0s 7ms/step - loss: 0.4506 - accuracy: 0.8176 - val_loss: 0.6180 - val_accuracy: 0.7013\n",
            "Epoch 176/200\n",
            "20/20 [==============================] - 0s 9ms/step - loss: 0.4386 - accuracy: 0.8257 - val_loss: 0.6287 - val_accuracy: 0.7013\n",
            "Epoch 177/200\n",
            "20/20 [==============================] - 0s 7ms/step - loss: 0.4457 - accuracy: 0.8160 - val_loss: 0.6149 - val_accuracy: 0.7078\n",
            "Epoch 178/200\n",
            "20/20 [==============================] - 0s 7ms/step - loss: 0.4531 - accuracy: 0.8127 - val_loss: 0.6300 - val_accuracy: 0.6948\n",
            "Epoch 179/200\n",
            "20/20 [==============================] - 0s 7ms/step - loss: 0.4392 - accuracy: 0.8143 - val_loss: 0.6102 - val_accuracy: 0.7013\n",
            "Epoch 180/200\n",
            "20/20 [==============================] - 0s 7ms/step - loss: 0.4565 - accuracy: 0.8111 - val_loss: 0.6024 - val_accuracy: 0.7078\n",
            "Epoch 181/200\n",
            "20/20 [==============================] - 0s 8ms/step - loss: 0.4451 - accuracy: 0.8078 - val_loss: 0.6162 - val_accuracy: 0.7143\n",
            "Epoch 182/200\n",
            "20/20 [==============================] - 0s 7ms/step - loss: 0.4369 - accuracy: 0.8208 - val_loss: 0.5902 - val_accuracy: 0.7273\n",
            "Epoch 183/200\n",
            "20/20 [==============================] - 0s 8ms/step - loss: 0.4466 - accuracy: 0.8111 - val_loss: 0.6022 - val_accuracy: 0.7208\n",
            "Epoch 184/200\n",
            "20/20 [==============================] - 0s 7ms/step - loss: 0.4374 - accuracy: 0.8127 - val_loss: 0.5960 - val_accuracy: 0.7143\n",
            "Epoch 185/200\n",
            "20/20 [==============================] - 0s 8ms/step - loss: 0.4430 - accuracy: 0.8094 - val_loss: 0.5892 - val_accuracy: 0.7078\n",
            "Epoch 186/200\n",
            "20/20 [==============================] - 0s 7ms/step - loss: 0.4505 - accuracy: 0.8013 - val_loss: 0.5891 - val_accuracy: 0.7143\n",
            "Epoch 187/200\n",
            "20/20 [==============================] - 0s 7ms/step - loss: 0.4511 - accuracy: 0.8143 - val_loss: 0.6030 - val_accuracy: 0.7013\n",
            "Epoch 188/200\n",
            "20/20 [==============================] - 0s 7ms/step - loss: 0.4417 - accuracy: 0.8127 - val_loss: 0.6181 - val_accuracy: 0.7078\n",
            "Epoch 189/200\n",
            "20/20 [==============================] - 0s 9ms/step - loss: 0.4334 - accuracy: 0.8192 - val_loss: 0.6195 - val_accuracy: 0.7078\n",
            "Epoch 190/200\n",
            "20/20 [==============================] - 0s 7ms/step - loss: 0.4547 - accuracy: 0.8143 - val_loss: 0.5971 - val_accuracy: 0.7143\n",
            "Epoch 191/200\n",
            "20/20 [==============================] - 0s 7ms/step - loss: 0.4515 - accuracy: 0.8111 - val_loss: 0.5803 - val_accuracy: 0.7208\n",
            "Epoch 192/200\n",
            "20/20 [==============================] - 0s 7ms/step - loss: 0.4433 - accuracy: 0.8225 - val_loss: 0.5857 - val_accuracy: 0.7273\n",
            "Epoch 193/200\n",
            "20/20 [==============================] - 0s 8ms/step - loss: 0.4345 - accuracy: 0.8192 - val_loss: 0.5865 - val_accuracy: 0.7273\n",
            "Epoch 194/200\n",
            "20/20 [==============================] - 0s 7ms/step - loss: 0.4271 - accuracy: 0.8257 - val_loss: 0.5983 - val_accuracy: 0.7338\n",
            "Epoch 195/200\n",
            "20/20 [==============================] - 0s 7ms/step - loss: 0.4369 - accuracy: 0.8257 - val_loss: 0.6025 - val_accuracy: 0.7208\n",
            "Epoch 196/200\n",
            "20/20 [==============================] - 0s 8ms/step - loss: 0.4717 - accuracy: 0.7997 - val_loss: 0.5947 - val_accuracy: 0.7208\n",
            "Epoch 197/200\n",
            "20/20 [==============================] - 0s 8ms/step - loss: 0.4553 - accuracy: 0.8127 - val_loss: 0.5638 - val_accuracy: 0.7338\n",
            "Epoch 198/200\n",
            "20/20 [==============================] - 0s 8ms/step - loss: 0.4472 - accuracy: 0.8241 - val_loss: 0.5740 - val_accuracy: 0.7208\n",
            "Epoch 199/200\n",
            "20/20 [==============================] - 0s 7ms/step - loss: 0.4302 - accuracy: 0.8241 - val_loss: 0.5572 - val_accuracy: 0.7403\n",
            "Epoch 200/200\n",
            "20/20 [==============================] - 0s 7ms/step - loss: 0.4397 - accuracy: 0.8257 - val_loss: 0.5747 - val_accuracy: 0.7338\n"
          ]
        },
        {
          "output_type": "execute_result",
          "data": {
            "text/plain": [
              "<keras.callbacks.History at 0x7f1af2b79930>"
            ]
          },
          "metadata": {},
          "execution_count": 49
        }
      ]
    },
    {
      "cell_type": "code",
      "source": [],
      "metadata": {
        "id": "vHnz2pQSOfoi"
      },
      "execution_count": null,
      "outputs": []
    }
  ]
}